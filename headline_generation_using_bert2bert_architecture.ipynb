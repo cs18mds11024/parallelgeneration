{
  "nbformat": 4,
  "nbformat_minor": 0,
  "metadata": {
    "colab": {
      "name": "headline_generation_using_bert2bert_architecture.ipynb",
      "provenance": [],
      "collapsed_sections": [],
      "machine_shape": "hm"
    },
    "kernelspec": {
      "display_name": "Python 3",
      "name": "python3"
    },
    "language_info": {
      "name": "python"
    },
    "widgets": {
      "application/vnd.jupyter.widget-state+json": {
        "f275c1a9c16d4a368906d7775ac0a798": {
          "model_module": "@jupyter-widgets/controls",
          "model_name": "HBoxModel",
          "state": {
            "_dom_classes": [],
            "_model_module": "@jupyter-widgets/controls",
            "_model_module_version": "1.5.0",
            "_model_name": "HBoxModel",
            "_view_count": null,
            "_view_module": "@jupyter-widgets/controls",
            "_view_module_version": "1.5.0",
            "_view_name": "HBoxView",
            "box_style": "",
            "children": [
              "IPY_MODEL_52b2c0ba73cd4155b67df679d5cfd71a",
              "IPY_MODEL_594c2466e9d74eef98f4977904e8e140"
            ],
            "layout": "IPY_MODEL_8fdd1dc9efe64c1da9815cfbcc43684a"
          }
        },
        "52b2c0ba73cd4155b67df679d5cfd71a": {
          "model_module": "@jupyter-widgets/controls",
          "model_name": "FloatProgressModel",
          "state": {
            "_dom_classes": [],
            "_model_module": "@jupyter-widgets/controls",
            "_model_module_version": "1.5.0",
            "_model_name": "FloatProgressModel",
            "_view_count": null,
            "_view_module": "@jupyter-widgets/controls",
            "_view_module_version": "1.5.0",
            "_view_name": "ProgressView",
            "bar_style": "success",
            "description": "100%",
            "description_tooltip": null,
            "layout": "IPY_MODEL_5568bc3768ce415f9c7c9557182f0175",
            "max": 8000,
            "min": 0,
            "orientation": "horizontal",
            "style": "IPY_MODEL_4a2ffd563927464c88a8183cf95f9346",
            "value": 8000
          }
        },
        "594c2466e9d74eef98f4977904e8e140": {
          "model_module": "@jupyter-widgets/controls",
          "model_name": "HTMLModel",
          "state": {
            "_dom_classes": [],
            "_model_module": "@jupyter-widgets/controls",
            "_model_module_version": "1.5.0",
            "_model_name": "HTMLModel",
            "_view_count": null,
            "_view_module": "@jupyter-widgets/controls",
            "_view_module_version": "1.5.0",
            "_view_name": "HTMLView",
            "description": "",
            "description_tooltip": null,
            "layout": "IPY_MODEL_e8f274faa5d5480c9b995b8777e08d59",
            "placeholder": "​",
            "style": "IPY_MODEL_21645d3d239244c8a96c140be969e6de",
            "value": " 8000/8000 [10:16:26&lt;00:00,  4.62s/ex]"
          }
        },
        "8fdd1dc9efe64c1da9815cfbcc43684a": {
          "model_module": "@jupyter-widgets/base",
          "model_name": "LayoutModel",
          "state": {
            "_model_module": "@jupyter-widgets/base",
            "_model_module_version": "1.2.0",
            "_model_name": "LayoutModel",
            "_view_count": null,
            "_view_module": "@jupyter-widgets/base",
            "_view_module_version": "1.2.0",
            "_view_name": "LayoutView",
            "align_content": null,
            "align_items": null,
            "align_self": null,
            "border": null,
            "bottom": null,
            "display": null,
            "flex": null,
            "flex_flow": null,
            "grid_area": null,
            "grid_auto_columns": null,
            "grid_auto_flow": null,
            "grid_auto_rows": null,
            "grid_column": null,
            "grid_gap": null,
            "grid_row": null,
            "grid_template_areas": null,
            "grid_template_columns": null,
            "grid_template_rows": null,
            "height": null,
            "justify_content": null,
            "justify_items": null,
            "left": null,
            "margin": null,
            "max_height": null,
            "max_width": null,
            "min_height": null,
            "min_width": null,
            "object_fit": null,
            "object_position": null,
            "order": null,
            "overflow": null,
            "overflow_x": null,
            "overflow_y": null,
            "padding": null,
            "right": null,
            "top": null,
            "visibility": null,
            "width": null
          }
        },
        "5568bc3768ce415f9c7c9557182f0175": {
          "model_module": "@jupyter-widgets/base",
          "model_name": "LayoutModel",
          "state": {
            "_model_module": "@jupyter-widgets/base",
            "_model_module_version": "1.2.0",
            "_model_name": "LayoutModel",
            "_view_count": null,
            "_view_module": "@jupyter-widgets/base",
            "_view_module_version": "1.2.0",
            "_view_name": "LayoutView",
            "align_content": null,
            "align_items": null,
            "align_self": null,
            "border": null,
            "bottom": null,
            "display": null,
            "flex": null,
            "flex_flow": null,
            "grid_area": null,
            "grid_auto_columns": null,
            "grid_auto_flow": null,
            "grid_auto_rows": null,
            "grid_column": null,
            "grid_gap": null,
            "grid_row": null,
            "grid_template_areas": null,
            "grid_template_columns": null,
            "grid_template_rows": null,
            "height": null,
            "justify_content": null,
            "justify_items": null,
            "left": null,
            "margin": null,
            "max_height": null,
            "max_width": null,
            "min_height": null,
            "min_width": null,
            "object_fit": null,
            "object_position": null,
            "order": null,
            "overflow": null,
            "overflow_x": null,
            "overflow_y": null,
            "padding": null,
            "right": null,
            "top": null,
            "visibility": null,
            "width": null
          }
        },
        "4a2ffd563927464c88a8183cf95f9346": {
          "model_module": "@jupyter-widgets/controls",
          "model_name": "ProgressStyleModel",
          "state": {
            "_model_module": "@jupyter-widgets/controls",
            "_model_module_version": "1.5.0",
            "_model_name": "ProgressStyleModel",
            "_view_count": null,
            "_view_module": "@jupyter-widgets/base",
            "_view_module_version": "1.2.0",
            "_view_name": "StyleView",
            "bar_color": null,
            "description_width": "initial"
          }
        },
        "e8f274faa5d5480c9b995b8777e08d59": {
          "model_module": "@jupyter-widgets/base",
          "model_name": "LayoutModel",
          "state": {
            "_model_module": "@jupyter-widgets/base",
            "_model_module_version": "1.2.0",
            "_model_name": "LayoutModel",
            "_view_count": null,
            "_view_module": "@jupyter-widgets/base",
            "_view_module_version": "1.2.0",
            "_view_name": "LayoutView",
            "align_content": null,
            "align_items": null,
            "align_self": null,
            "border": null,
            "bottom": null,
            "display": null,
            "flex": null,
            "flex_flow": null,
            "grid_area": null,
            "grid_auto_columns": null,
            "grid_auto_flow": null,
            "grid_auto_rows": null,
            "grid_column": null,
            "grid_gap": null,
            "grid_row": null,
            "grid_template_areas": null,
            "grid_template_columns": null,
            "grid_template_rows": null,
            "height": null,
            "justify_content": null,
            "justify_items": null,
            "left": null,
            "margin": null,
            "max_height": null,
            "max_width": null,
            "min_height": null,
            "min_width": null,
            "object_fit": null,
            "object_position": null,
            "order": null,
            "overflow": null,
            "overflow_x": null,
            "overflow_y": null,
            "padding": null,
            "right": null,
            "top": null,
            "visibility": null,
            "width": null
          }
        },
        "21645d3d239244c8a96c140be969e6de": {
          "model_module": "@jupyter-widgets/controls",
          "model_name": "DescriptionStyleModel",
          "state": {
            "_model_module": "@jupyter-widgets/controls",
            "_model_module_version": "1.5.0",
            "_model_name": "DescriptionStyleModel",
            "_view_count": null,
            "_view_module": "@jupyter-widgets/base",
            "_view_module_version": "1.2.0",
            "_view_name": "StyleView",
            "description_width": ""
          }
        },
        "45686b0af7254b55a8c8348aa376eeed": {
          "model_module": "@jupyter-widgets/controls",
          "model_name": "HBoxModel",
          "state": {
            "_dom_classes": [],
            "_model_module": "@jupyter-widgets/controls",
            "_model_module_version": "1.5.0",
            "_model_name": "HBoxModel",
            "_view_count": null,
            "_view_module": "@jupyter-widgets/controls",
            "_view_module_version": "1.5.0",
            "_view_name": "HBoxView",
            "box_style": "",
            "children": [
              "IPY_MODEL_77e438604a494c8187a4b9c9b02900d0",
              "IPY_MODEL_30d5f9d8130041f4abb3a6ef75ddd520"
            ],
            "layout": "IPY_MODEL_b66cf4b166c7469282ec336647ff3dd2"
          }
        },
        "77e438604a494c8187a4b9c9b02900d0": {
          "model_module": "@jupyter-widgets/controls",
          "model_name": "FloatProgressModel",
          "state": {
            "_dom_classes": [],
            "_model_module": "@jupyter-widgets/controls",
            "_model_module_version": "1.5.0",
            "_model_name": "FloatProgressModel",
            "_view_count": null,
            "_view_module": "@jupyter-widgets/controls",
            "_view_module_version": "1.5.0",
            "_view_name": "ProgressView",
            "bar_style": "success",
            "description": "100%",
            "description_tooltip": null,
            "layout": "IPY_MODEL_e46d42640ac1429b995bfc37993f62b7",
            "max": 1,
            "min": 0,
            "orientation": "horizontal",
            "style": "IPY_MODEL_6b93434ffdbf48ef9c7bcfb4ca5c8e41",
            "value": 1
          }
        },
        "30d5f9d8130041f4abb3a6ef75ddd520": {
          "model_module": "@jupyter-widgets/controls",
          "model_name": "HTMLModel",
          "state": {
            "_dom_classes": [],
            "_model_module": "@jupyter-widgets/controls",
            "_model_module_version": "1.5.0",
            "_model_name": "HTMLModel",
            "_view_count": null,
            "_view_module": "@jupyter-widgets/controls",
            "_view_module_version": "1.5.0",
            "_view_name": "HTMLView",
            "description": "",
            "description_tooltip": null,
            "layout": "IPY_MODEL_20dfed13c5d14eb69f59b803b5ff13ad",
            "placeholder": "​",
            "style": "IPY_MODEL_ece541b3f49b4e2581482c474a529a5c",
            "value": " 1/1 [00:00&lt;00:00,  1.07ba/s]"
          }
        },
        "b66cf4b166c7469282ec336647ff3dd2": {
          "model_module": "@jupyter-widgets/base",
          "model_name": "LayoutModel",
          "state": {
            "_model_module": "@jupyter-widgets/base",
            "_model_module_version": "1.2.0",
            "_model_name": "LayoutModel",
            "_view_count": null,
            "_view_module": "@jupyter-widgets/base",
            "_view_module_version": "1.2.0",
            "_view_name": "LayoutView",
            "align_content": null,
            "align_items": null,
            "align_self": null,
            "border": null,
            "bottom": null,
            "display": null,
            "flex": null,
            "flex_flow": null,
            "grid_area": null,
            "grid_auto_columns": null,
            "grid_auto_flow": null,
            "grid_auto_rows": null,
            "grid_column": null,
            "grid_gap": null,
            "grid_row": null,
            "grid_template_areas": null,
            "grid_template_columns": null,
            "grid_template_rows": null,
            "height": null,
            "justify_content": null,
            "justify_items": null,
            "left": null,
            "margin": null,
            "max_height": null,
            "max_width": null,
            "min_height": null,
            "min_width": null,
            "object_fit": null,
            "object_position": null,
            "order": null,
            "overflow": null,
            "overflow_x": null,
            "overflow_y": null,
            "padding": null,
            "right": null,
            "top": null,
            "visibility": null,
            "width": null
          }
        },
        "e46d42640ac1429b995bfc37993f62b7": {
          "model_module": "@jupyter-widgets/base",
          "model_name": "LayoutModel",
          "state": {
            "_model_module": "@jupyter-widgets/base",
            "_model_module_version": "1.2.0",
            "_model_name": "LayoutModel",
            "_view_count": null,
            "_view_module": "@jupyter-widgets/base",
            "_view_module_version": "1.2.0",
            "_view_name": "LayoutView",
            "align_content": null,
            "align_items": null,
            "align_self": null,
            "border": null,
            "bottom": null,
            "display": null,
            "flex": null,
            "flex_flow": null,
            "grid_area": null,
            "grid_auto_columns": null,
            "grid_auto_flow": null,
            "grid_auto_rows": null,
            "grid_column": null,
            "grid_gap": null,
            "grid_row": null,
            "grid_template_areas": null,
            "grid_template_columns": null,
            "grid_template_rows": null,
            "height": null,
            "justify_content": null,
            "justify_items": null,
            "left": null,
            "margin": null,
            "max_height": null,
            "max_width": null,
            "min_height": null,
            "min_width": null,
            "object_fit": null,
            "object_position": null,
            "order": null,
            "overflow": null,
            "overflow_x": null,
            "overflow_y": null,
            "padding": null,
            "right": null,
            "top": null,
            "visibility": null,
            "width": null
          }
        },
        "6b93434ffdbf48ef9c7bcfb4ca5c8e41": {
          "model_module": "@jupyter-widgets/controls",
          "model_name": "ProgressStyleModel",
          "state": {
            "_model_module": "@jupyter-widgets/controls",
            "_model_module_version": "1.5.0",
            "_model_name": "ProgressStyleModel",
            "_view_count": null,
            "_view_module": "@jupyter-widgets/base",
            "_view_module_version": "1.2.0",
            "_view_name": "StyleView",
            "bar_color": null,
            "description_width": "initial"
          }
        },
        "20dfed13c5d14eb69f59b803b5ff13ad": {
          "model_module": "@jupyter-widgets/base",
          "model_name": "LayoutModel",
          "state": {
            "_model_module": "@jupyter-widgets/base",
            "_model_module_version": "1.2.0",
            "_model_name": "LayoutModel",
            "_view_count": null,
            "_view_module": "@jupyter-widgets/base",
            "_view_module_version": "1.2.0",
            "_view_name": "LayoutView",
            "align_content": null,
            "align_items": null,
            "align_self": null,
            "border": null,
            "bottom": null,
            "display": null,
            "flex": null,
            "flex_flow": null,
            "grid_area": null,
            "grid_auto_columns": null,
            "grid_auto_flow": null,
            "grid_auto_rows": null,
            "grid_column": null,
            "grid_gap": null,
            "grid_row": null,
            "grid_template_areas": null,
            "grid_template_columns": null,
            "grid_template_rows": null,
            "height": null,
            "justify_content": null,
            "justify_items": null,
            "left": null,
            "margin": null,
            "max_height": null,
            "max_width": null,
            "min_height": null,
            "min_width": null,
            "object_fit": null,
            "object_position": null,
            "order": null,
            "overflow": null,
            "overflow_x": null,
            "overflow_y": null,
            "padding": null,
            "right": null,
            "top": null,
            "visibility": null,
            "width": null
          }
        },
        "ece541b3f49b4e2581482c474a529a5c": {
          "model_module": "@jupyter-widgets/controls",
          "model_name": "DescriptionStyleModel",
          "state": {
            "_model_module": "@jupyter-widgets/controls",
            "_model_module_version": "1.5.0",
            "_model_name": "DescriptionStyleModel",
            "_view_count": null,
            "_view_module": "@jupyter-widgets/base",
            "_view_module_version": "1.2.0",
            "_view_name": "StyleView",
            "description_width": ""
          }
        },
        "98d57fa867f7402285042b107426ef98": {
          "model_module": "@jupyter-widgets/controls",
          "model_name": "HBoxModel",
          "state": {
            "_dom_classes": [],
            "_model_module": "@jupyter-widgets/controls",
            "_model_module_version": "1.5.0",
            "_model_name": "HBoxModel",
            "_view_count": null,
            "_view_module": "@jupyter-widgets/controls",
            "_view_module_version": "1.5.0",
            "_view_name": "HBoxView",
            "box_style": "",
            "children": [
              "IPY_MODEL_09d3932f78a848cfbbb45ad0879052bf",
              "IPY_MODEL_01083ede37f04acf82b59f34221e9b9d"
            ],
            "layout": "IPY_MODEL_732639a957cf4c0582cb1af09d6f7f51"
          }
        },
        "09d3932f78a848cfbbb45ad0879052bf": {
          "model_module": "@jupyter-widgets/controls",
          "model_name": "FloatProgressModel",
          "state": {
            "_dom_classes": [],
            "_model_module": "@jupyter-widgets/controls",
            "_model_module_version": "1.5.0",
            "_model_name": "FloatProgressModel",
            "_view_count": null,
            "_view_module": "@jupyter-widgets/controls",
            "_view_module_version": "1.5.0",
            "_view_name": "ProgressView",
            "bar_style": "success",
            "description": "100%",
            "description_tooltip": null,
            "layout": "IPY_MODEL_2659143f08334562bb1205982c7f5d2d",
            "max": 500,
            "min": 0,
            "orientation": "horizontal",
            "style": "IPY_MODEL_dfe0dac287534fe89a2bebe0c93b3cf9",
            "value": 500
          }
        },
        "01083ede37f04acf82b59f34221e9b9d": {
          "model_module": "@jupyter-widgets/controls",
          "model_name": "HTMLModel",
          "state": {
            "_dom_classes": [],
            "_model_module": "@jupyter-widgets/controls",
            "_model_module_version": "1.5.0",
            "_model_name": "HTMLModel",
            "_view_count": null,
            "_view_module": "@jupyter-widgets/controls",
            "_view_module_version": "1.5.0",
            "_view_name": "HTMLView",
            "description": "",
            "description_tooltip": null,
            "layout": "IPY_MODEL_1535b85ef5b4447f991c01c490b84f67",
            "placeholder": "​",
            "style": "IPY_MODEL_ccd4d254d8994093b1c665870cfc075e",
            "value": " 500/500 [00:08&lt;00:00, 60.07ba/s]"
          }
        },
        "732639a957cf4c0582cb1af09d6f7f51": {
          "model_module": "@jupyter-widgets/base",
          "model_name": "LayoutModel",
          "state": {
            "_model_module": "@jupyter-widgets/base",
            "_model_module_version": "1.2.0",
            "_model_name": "LayoutModel",
            "_view_count": null,
            "_view_module": "@jupyter-widgets/base",
            "_view_module_version": "1.2.0",
            "_view_name": "LayoutView",
            "align_content": null,
            "align_items": null,
            "align_self": null,
            "border": null,
            "bottom": null,
            "display": null,
            "flex": null,
            "flex_flow": null,
            "grid_area": null,
            "grid_auto_columns": null,
            "grid_auto_flow": null,
            "grid_auto_rows": null,
            "grid_column": null,
            "grid_gap": null,
            "grid_row": null,
            "grid_template_areas": null,
            "grid_template_columns": null,
            "grid_template_rows": null,
            "height": null,
            "justify_content": null,
            "justify_items": null,
            "left": null,
            "margin": null,
            "max_height": null,
            "max_width": null,
            "min_height": null,
            "min_width": null,
            "object_fit": null,
            "object_position": null,
            "order": null,
            "overflow": null,
            "overflow_x": null,
            "overflow_y": null,
            "padding": null,
            "right": null,
            "top": null,
            "visibility": null,
            "width": null
          }
        },
        "2659143f08334562bb1205982c7f5d2d": {
          "model_module": "@jupyter-widgets/base",
          "model_name": "LayoutModel",
          "state": {
            "_model_module": "@jupyter-widgets/base",
            "_model_module_version": "1.2.0",
            "_model_name": "LayoutModel",
            "_view_count": null,
            "_view_module": "@jupyter-widgets/base",
            "_view_module_version": "1.2.0",
            "_view_name": "LayoutView",
            "align_content": null,
            "align_items": null,
            "align_self": null,
            "border": null,
            "bottom": null,
            "display": null,
            "flex": null,
            "flex_flow": null,
            "grid_area": null,
            "grid_auto_columns": null,
            "grid_auto_flow": null,
            "grid_auto_rows": null,
            "grid_column": null,
            "grid_gap": null,
            "grid_row": null,
            "grid_template_areas": null,
            "grid_template_columns": null,
            "grid_template_rows": null,
            "height": null,
            "justify_content": null,
            "justify_items": null,
            "left": null,
            "margin": null,
            "max_height": null,
            "max_width": null,
            "min_height": null,
            "min_width": null,
            "object_fit": null,
            "object_position": null,
            "order": null,
            "overflow": null,
            "overflow_x": null,
            "overflow_y": null,
            "padding": null,
            "right": null,
            "top": null,
            "visibility": null,
            "width": null
          }
        },
        "dfe0dac287534fe89a2bebe0c93b3cf9": {
          "model_module": "@jupyter-widgets/controls",
          "model_name": "ProgressStyleModel",
          "state": {
            "_model_module": "@jupyter-widgets/controls",
            "_model_module_version": "1.5.0",
            "_model_name": "ProgressStyleModel",
            "_view_count": null,
            "_view_module": "@jupyter-widgets/base",
            "_view_module_version": "1.2.0",
            "_view_name": "StyleView",
            "bar_color": null,
            "description_width": "initial"
          }
        },
        "1535b85ef5b4447f991c01c490b84f67": {
          "model_module": "@jupyter-widgets/base",
          "model_name": "LayoutModel",
          "state": {
            "_model_module": "@jupyter-widgets/base",
            "_model_module_version": "1.2.0",
            "_model_name": "LayoutModel",
            "_view_count": null,
            "_view_module": "@jupyter-widgets/base",
            "_view_module_version": "1.2.0",
            "_view_name": "LayoutView",
            "align_content": null,
            "align_items": null,
            "align_self": null,
            "border": null,
            "bottom": null,
            "display": null,
            "flex": null,
            "flex_flow": null,
            "grid_area": null,
            "grid_auto_columns": null,
            "grid_auto_flow": null,
            "grid_auto_rows": null,
            "grid_column": null,
            "grid_gap": null,
            "grid_row": null,
            "grid_template_areas": null,
            "grid_template_columns": null,
            "grid_template_rows": null,
            "height": null,
            "justify_content": null,
            "justify_items": null,
            "left": null,
            "margin": null,
            "max_height": null,
            "max_width": null,
            "min_height": null,
            "min_width": null,
            "object_fit": null,
            "object_position": null,
            "order": null,
            "overflow": null,
            "overflow_x": null,
            "overflow_y": null,
            "padding": null,
            "right": null,
            "top": null,
            "visibility": null,
            "width": null
          }
        },
        "ccd4d254d8994093b1c665870cfc075e": {
          "model_module": "@jupyter-widgets/controls",
          "model_name": "DescriptionStyleModel",
          "state": {
            "_model_module": "@jupyter-widgets/controls",
            "_model_module_version": "1.5.0",
            "_model_name": "DescriptionStyleModel",
            "_view_count": null,
            "_view_module": "@jupyter-widgets/base",
            "_view_module_version": "1.2.0",
            "_view_name": "StyleView",
            "description_width": ""
          }
        },
        "daf92a11f31f47bab72db7ac24fcb497": {
          "model_module": "@jupyter-widgets/controls",
          "model_name": "HBoxModel",
          "state": {
            "_view_name": "HBoxView",
            "_dom_classes": [],
            "_model_name": "HBoxModel",
            "_view_module": "@jupyter-widgets/controls",
            "_model_module_version": "1.5.0",
            "_view_count": null,
            "_view_module_version": "1.5.0",
            "box_style": "",
            "layout": "IPY_MODEL_23935ecce8d34eb3a054da9319b3f2fe",
            "_model_module": "@jupyter-widgets/controls",
            "children": [
              "IPY_MODEL_523f33e319b949a18a3890822a1a1f1f",
              "IPY_MODEL_4149ba114cf34e579359cf214657e6a9"
            ]
          }
        },
        "23935ecce8d34eb3a054da9319b3f2fe": {
          "model_module": "@jupyter-widgets/base",
          "model_name": "LayoutModel",
          "state": {
            "_view_name": "LayoutView",
            "grid_template_rows": null,
            "right": null,
            "justify_content": null,
            "_view_module": "@jupyter-widgets/base",
            "overflow": null,
            "_model_module_version": "1.2.0",
            "_view_count": null,
            "flex_flow": null,
            "width": null,
            "min_width": null,
            "border": null,
            "align_items": null,
            "bottom": null,
            "_model_module": "@jupyter-widgets/base",
            "top": null,
            "grid_column": null,
            "overflow_y": null,
            "overflow_x": null,
            "grid_auto_flow": null,
            "grid_area": null,
            "grid_template_columns": null,
            "flex": null,
            "_model_name": "LayoutModel",
            "justify_items": null,
            "grid_row": null,
            "max_height": null,
            "align_content": null,
            "visibility": null,
            "align_self": null,
            "height": null,
            "min_height": null,
            "padding": null,
            "grid_auto_rows": null,
            "grid_gap": null,
            "max_width": null,
            "order": null,
            "_view_module_version": "1.2.0",
            "grid_template_areas": null,
            "object_position": null,
            "object_fit": null,
            "grid_auto_columns": null,
            "margin": null,
            "display": null,
            "left": null
          }
        },
        "523f33e319b949a18a3890822a1a1f1f": {
          "model_module": "@jupyter-widgets/controls",
          "model_name": "FloatProgressModel",
          "state": {
            "_view_name": "ProgressView",
            "style": "IPY_MODEL_49331b2f9885459e8085ea8d9de2a9e6",
            "_dom_classes": [],
            "description": "100%",
            "_model_name": "FloatProgressModel",
            "bar_style": "success",
            "max": 3,
            "_view_module": "@jupyter-widgets/controls",
            "_model_module_version": "1.5.0",
            "value": 3,
            "_view_count": null,
            "_view_module_version": "1.5.0",
            "orientation": "horizontal",
            "min": 0,
            "description_tooltip": null,
            "_model_module": "@jupyter-widgets/controls",
            "layout": "IPY_MODEL_e5719de361104c2784b65eb1d7a9e0c9"
          }
        },
        "4149ba114cf34e579359cf214657e6a9": {
          "model_module": "@jupyter-widgets/controls",
          "model_name": "HTMLModel",
          "state": {
            "_view_name": "HTMLView",
            "style": "IPY_MODEL_aa758efc63894d45a2081f40f5d514b9",
            "_dom_classes": [],
            "description": "",
            "_model_name": "HTMLModel",
            "placeholder": "​",
            "_view_module": "@jupyter-widgets/controls",
            "_model_module_version": "1.5.0",
            "value": " 3/3 [29:57&lt;00:00, 599.21s/ba]",
            "_view_count": null,
            "_view_module_version": "1.5.0",
            "description_tooltip": null,
            "_model_module": "@jupyter-widgets/controls",
            "layout": "IPY_MODEL_2470fcf7a8d44c18b17f6ebd39177e5b"
          }
        },
        "49331b2f9885459e8085ea8d9de2a9e6": {
          "model_module": "@jupyter-widgets/controls",
          "model_name": "ProgressStyleModel",
          "state": {
            "_view_name": "StyleView",
            "_model_name": "ProgressStyleModel",
            "description_width": "initial",
            "_view_module": "@jupyter-widgets/base",
            "_model_module_version": "1.5.0",
            "_view_count": null,
            "_view_module_version": "1.2.0",
            "bar_color": null,
            "_model_module": "@jupyter-widgets/controls"
          }
        },
        "e5719de361104c2784b65eb1d7a9e0c9": {
          "model_module": "@jupyter-widgets/base",
          "model_name": "LayoutModel",
          "state": {
            "_view_name": "LayoutView",
            "grid_template_rows": null,
            "right": null,
            "justify_content": null,
            "_view_module": "@jupyter-widgets/base",
            "overflow": null,
            "_model_module_version": "1.2.0",
            "_view_count": null,
            "flex_flow": null,
            "width": null,
            "min_width": null,
            "border": null,
            "align_items": null,
            "bottom": null,
            "_model_module": "@jupyter-widgets/base",
            "top": null,
            "grid_column": null,
            "overflow_y": null,
            "overflow_x": null,
            "grid_auto_flow": null,
            "grid_area": null,
            "grid_template_columns": null,
            "flex": null,
            "_model_name": "LayoutModel",
            "justify_items": null,
            "grid_row": null,
            "max_height": null,
            "align_content": null,
            "visibility": null,
            "align_self": null,
            "height": null,
            "min_height": null,
            "padding": null,
            "grid_auto_rows": null,
            "grid_gap": null,
            "max_width": null,
            "order": null,
            "_view_module_version": "1.2.0",
            "grid_template_areas": null,
            "object_position": null,
            "object_fit": null,
            "grid_auto_columns": null,
            "margin": null,
            "display": null,
            "left": null
          }
        },
        "aa758efc63894d45a2081f40f5d514b9": {
          "model_module": "@jupyter-widgets/controls",
          "model_name": "DescriptionStyleModel",
          "state": {
            "_view_name": "StyleView",
            "_model_name": "DescriptionStyleModel",
            "description_width": "",
            "_view_module": "@jupyter-widgets/base",
            "_model_module_version": "1.5.0",
            "_view_count": null,
            "_view_module_version": "1.2.0",
            "_model_module": "@jupyter-widgets/controls"
          }
        },
        "2470fcf7a8d44c18b17f6ebd39177e5b": {
          "model_module": "@jupyter-widgets/base",
          "model_name": "LayoutModel",
          "state": {
            "_view_name": "LayoutView",
            "grid_template_rows": null,
            "right": null,
            "justify_content": null,
            "_view_module": "@jupyter-widgets/base",
            "overflow": null,
            "_model_module_version": "1.2.0",
            "_view_count": null,
            "flex_flow": null,
            "width": null,
            "min_width": null,
            "border": null,
            "align_items": null,
            "bottom": null,
            "_model_module": "@jupyter-widgets/base",
            "top": null,
            "grid_column": null,
            "overflow_y": null,
            "overflow_x": null,
            "grid_auto_flow": null,
            "grid_area": null,
            "grid_template_columns": null,
            "flex": null,
            "_model_name": "LayoutModel",
            "justify_items": null,
            "grid_row": null,
            "max_height": null,
            "align_content": null,
            "visibility": null,
            "align_self": null,
            "height": null,
            "min_height": null,
            "padding": null,
            "grid_auto_rows": null,
            "grid_gap": null,
            "max_width": null,
            "order": null,
            "_view_module_version": "1.2.0",
            "grid_template_areas": null,
            "object_position": null,
            "object_fit": null,
            "grid_auto_columns": null,
            "margin": null,
            "display": null,
            "left": null
          }
        },
        "b838440d0fa3460e8dc1240009845fd3": {
          "model_module": "@jupyter-widgets/controls",
          "model_name": "HBoxModel",
          "state": {
            "_view_name": "HBoxView",
            "_dom_classes": [],
            "_model_name": "HBoxModel",
            "_view_module": "@jupyter-widgets/controls",
            "_model_module_version": "1.5.0",
            "_view_count": null,
            "_view_module_version": "1.5.0",
            "box_style": "",
            "layout": "IPY_MODEL_887b938d37a24a4b873a0a7f76f3c090",
            "_model_module": "@jupyter-widgets/controls",
            "children": [
              "IPY_MODEL_24e5732942c744e8b57079f80c776d57",
              "IPY_MODEL_3ed344e4c6ae4be2a3323f8da47ff6b0"
            ]
          }
        },
        "887b938d37a24a4b873a0a7f76f3c090": {
          "model_module": "@jupyter-widgets/base",
          "model_name": "LayoutModel",
          "state": {
            "_view_name": "LayoutView",
            "grid_template_rows": null,
            "right": null,
            "justify_content": null,
            "_view_module": "@jupyter-widgets/base",
            "overflow": null,
            "_model_module_version": "1.2.0",
            "_view_count": null,
            "flex_flow": null,
            "width": null,
            "min_width": null,
            "border": null,
            "align_items": null,
            "bottom": null,
            "_model_module": "@jupyter-widgets/base",
            "top": null,
            "grid_column": null,
            "overflow_y": null,
            "overflow_x": null,
            "grid_auto_flow": null,
            "grid_area": null,
            "grid_template_columns": null,
            "flex": null,
            "_model_name": "LayoutModel",
            "justify_items": null,
            "grid_row": null,
            "max_height": null,
            "align_content": null,
            "visibility": null,
            "align_self": null,
            "height": null,
            "min_height": null,
            "padding": null,
            "grid_auto_rows": null,
            "grid_gap": null,
            "max_width": null,
            "order": null,
            "_view_module_version": "1.2.0",
            "grid_template_areas": null,
            "object_position": null,
            "object_fit": null,
            "grid_auto_columns": null,
            "margin": null,
            "display": null,
            "left": null
          }
        },
        "24e5732942c744e8b57079f80c776d57": {
          "model_module": "@jupyter-widgets/controls",
          "model_name": "FloatProgressModel",
          "state": {
            "_view_name": "ProgressView",
            "style": "IPY_MODEL_a16452cd134d494d92f83ef2f950e3ac",
            "_dom_classes": [],
            "description": "100%",
            "_model_name": "FloatProgressModel",
            "bar_style": "success",
            "max": 3,
            "_view_module": "@jupyter-widgets/controls",
            "_model_module_version": "1.5.0",
            "value": 3,
            "_view_count": null,
            "_view_module_version": "1.5.0",
            "orientation": "horizontal",
            "min": 0,
            "description_tooltip": null,
            "_model_module": "@jupyter-widgets/controls",
            "layout": "IPY_MODEL_3245e4971f924347822941fd73a687af"
          }
        },
        "3ed344e4c6ae4be2a3323f8da47ff6b0": {
          "model_module": "@jupyter-widgets/controls",
          "model_name": "HTMLModel",
          "state": {
            "_view_name": "HTMLView",
            "style": "IPY_MODEL_f2daa35edae54336a746a1236c1ab7ec",
            "_dom_classes": [],
            "description": "",
            "_model_name": "HTMLModel",
            "placeholder": "​",
            "_view_module": "@jupyter-widgets/controls",
            "_model_module_version": "1.5.0",
            "value": " 3/3 [03:04&lt;00:00, 61.67s/ba]",
            "_view_count": null,
            "_view_module_version": "1.5.0",
            "description_tooltip": null,
            "_model_module": "@jupyter-widgets/controls",
            "layout": "IPY_MODEL_d316bebabce748d4af2c201464e5ca28"
          }
        },
        "a16452cd134d494d92f83ef2f950e3ac": {
          "model_module": "@jupyter-widgets/controls",
          "model_name": "ProgressStyleModel",
          "state": {
            "_view_name": "StyleView",
            "_model_name": "ProgressStyleModel",
            "description_width": "initial",
            "_view_module": "@jupyter-widgets/base",
            "_model_module_version": "1.5.0",
            "_view_count": null,
            "_view_module_version": "1.2.0",
            "bar_color": null,
            "_model_module": "@jupyter-widgets/controls"
          }
        },
        "3245e4971f924347822941fd73a687af": {
          "model_module": "@jupyter-widgets/base",
          "model_name": "LayoutModel",
          "state": {
            "_view_name": "LayoutView",
            "grid_template_rows": null,
            "right": null,
            "justify_content": null,
            "_view_module": "@jupyter-widgets/base",
            "overflow": null,
            "_model_module_version": "1.2.0",
            "_view_count": null,
            "flex_flow": null,
            "width": null,
            "min_width": null,
            "border": null,
            "align_items": null,
            "bottom": null,
            "_model_module": "@jupyter-widgets/base",
            "top": null,
            "grid_column": null,
            "overflow_y": null,
            "overflow_x": null,
            "grid_auto_flow": null,
            "grid_area": null,
            "grid_template_columns": null,
            "flex": null,
            "_model_name": "LayoutModel",
            "justify_items": null,
            "grid_row": null,
            "max_height": null,
            "align_content": null,
            "visibility": null,
            "align_self": null,
            "height": null,
            "min_height": null,
            "padding": null,
            "grid_auto_rows": null,
            "grid_gap": null,
            "max_width": null,
            "order": null,
            "_view_module_version": "1.2.0",
            "grid_template_areas": null,
            "object_position": null,
            "object_fit": null,
            "grid_auto_columns": null,
            "margin": null,
            "display": null,
            "left": null
          }
        },
        "f2daa35edae54336a746a1236c1ab7ec": {
          "model_module": "@jupyter-widgets/controls",
          "model_name": "DescriptionStyleModel",
          "state": {
            "_view_name": "StyleView",
            "_model_name": "DescriptionStyleModel",
            "description_width": "",
            "_view_module": "@jupyter-widgets/base",
            "_model_module_version": "1.5.0",
            "_view_count": null,
            "_view_module_version": "1.2.0",
            "_model_module": "@jupyter-widgets/controls"
          }
        },
        "d316bebabce748d4af2c201464e5ca28": {
          "model_module": "@jupyter-widgets/base",
          "model_name": "LayoutModel",
          "state": {
            "_view_name": "LayoutView",
            "grid_template_rows": null,
            "right": null,
            "justify_content": null,
            "_view_module": "@jupyter-widgets/base",
            "overflow": null,
            "_model_module_version": "1.2.0",
            "_view_count": null,
            "flex_flow": null,
            "width": null,
            "min_width": null,
            "border": null,
            "align_items": null,
            "bottom": null,
            "_model_module": "@jupyter-widgets/base",
            "top": null,
            "grid_column": null,
            "overflow_y": null,
            "overflow_x": null,
            "grid_auto_flow": null,
            "grid_area": null,
            "grid_template_columns": null,
            "flex": null,
            "_model_name": "LayoutModel",
            "justify_items": null,
            "grid_row": null,
            "max_height": null,
            "align_content": null,
            "visibility": null,
            "align_self": null,
            "height": null,
            "min_height": null,
            "padding": null,
            "grid_auto_rows": null,
            "grid_gap": null,
            "max_width": null,
            "order": null,
            "_view_module_version": "1.2.0",
            "grid_template_areas": null,
            "object_position": null,
            "object_fit": null,
            "grid_auto_columns": null,
            "margin": null,
            "display": null,
            "left": null
          }
        },
        "43bcff77fdf441f8bafdd05f7ad91080": {
          "model_module": "@jupyter-widgets/controls",
          "model_name": "HBoxModel",
          "state": {
            "_view_name": "HBoxView",
            "_dom_classes": [],
            "_model_name": "HBoxModel",
            "_view_module": "@jupyter-widgets/controls",
            "_model_module_version": "1.5.0",
            "_view_count": null,
            "_view_module_version": "1.5.0",
            "box_style": "",
            "layout": "IPY_MODEL_f0c0a919f9914718b252c56e193f3f04",
            "_model_module": "@jupyter-widgets/controls",
            "children": [
              "IPY_MODEL_f6552187ff914b63b10c106945b36850",
              "IPY_MODEL_cd0af2eefd3a4ef68aec415add1c5e96"
            ]
          }
        },
        "f0c0a919f9914718b252c56e193f3f04": {
          "model_module": "@jupyter-widgets/base",
          "model_name": "LayoutModel",
          "state": {
            "_view_name": "LayoutView",
            "grid_template_rows": null,
            "right": null,
            "justify_content": null,
            "_view_module": "@jupyter-widgets/base",
            "overflow": null,
            "_model_module_version": "1.2.0",
            "_view_count": null,
            "flex_flow": null,
            "width": null,
            "min_width": null,
            "border": null,
            "align_items": null,
            "bottom": null,
            "_model_module": "@jupyter-widgets/base",
            "top": null,
            "grid_column": null,
            "overflow_y": null,
            "overflow_x": null,
            "grid_auto_flow": null,
            "grid_area": null,
            "grid_template_columns": null,
            "flex": null,
            "_model_name": "LayoutModel",
            "justify_items": null,
            "grid_row": null,
            "max_height": null,
            "align_content": null,
            "visibility": null,
            "align_self": null,
            "height": null,
            "min_height": null,
            "padding": null,
            "grid_auto_rows": null,
            "grid_gap": null,
            "max_width": null,
            "order": null,
            "_view_module_version": "1.2.0",
            "grid_template_areas": null,
            "object_position": null,
            "object_fit": null,
            "grid_auto_columns": null,
            "margin": null,
            "display": null,
            "left": null
          }
        },
        "f6552187ff914b63b10c106945b36850": {
          "model_module": "@jupyter-widgets/controls",
          "model_name": "FloatProgressModel",
          "state": {
            "_view_name": "ProgressView",
            "style": "IPY_MODEL_77c1d9983a074730ba68161f893e05ec",
            "_dom_classes": [],
            "description": "100%",
            "_model_name": "FloatProgressModel",
            "bar_style": "success",
            "max": 452,
            "_view_module": "@jupyter-widgets/controls",
            "_model_module_version": "1.5.0",
            "value": 452,
            "_view_count": null,
            "_view_module_version": "1.5.0",
            "orientation": "horizontal",
            "min": 0,
            "description_tooltip": null,
            "_model_module": "@jupyter-widgets/controls",
            "layout": "IPY_MODEL_cc3beaf8121c4412bfbc1f6f2f4806a4"
          }
        },
        "cd0af2eefd3a4ef68aec415add1c5e96": {
          "model_module": "@jupyter-widgets/controls",
          "model_name": "HTMLModel",
          "state": {
            "_view_name": "HTMLView",
            "style": "IPY_MODEL_4b0a7823248b4018afad9cf5cf41c571",
            "_dom_classes": [],
            "description": "",
            "_model_name": "HTMLModel",
            "placeholder": "​",
            "_view_module": "@jupyter-widgets/controls",
            "_model_module_version": "1.5.0",
            "value": " 452/452 [1:59:02&lt;00:00, 15.80s/ba]",
            "_view_count": null,
            "_view_module_version": "1.5.0",
            "description_tooltip": null,
            "_model_module": "@jupyter-widgets/controls",
            "layout": "IPY_MODEL_897f709a807f4c3fa928f0d84639234d"
          }
        },
        "77c1d9983a074730ba68161f893e05ec": {
          "model_module": "@jupyter-widgets/controls",
          "model_name": "ProgressStyleModel",
          "state": {
            "_view_name": "StyleView",
            "_model_name": "ProgressStyleModel",
            "description_width": "initial",
            "_view_module": "@jupyter-widgets/base",
            "_model_module_version": "1.5.0",
            "_view_count": null,
            "_view_module_version": "1.2.0",
            "bar_color": null,
            "_model_module": "@jupyter-widgets/controls"
          }
        },
        "cc3beaf8121c4412bfbc1f6f2f4806a4": {
          "model_module": "@jupyter-widgets/base",
          "model_name": "LayoutModel",
          "state": {
            "_view_name": "LayoutView",
            "grid_template_rows": null,
            "right": null,
            "justify_content": null,
            "_view_module": "@jupyter-widgets/base",
            "overflow": null,
            "_model_module_version": "1.2.0",
            "_view_count": null,
            "flex_flow": null,
            "width": null,
            "min_width": null,
            "border": null,
            "align_items": null,
            "bottom": null,
            "_model_module": "@jupyter-widgets/base",
            "top": null,
            "grid_column": null,
            "overflow_y": null,
            "overflow_x": null,
            "grid_auto_flow": null,
            "grid_area": null,
            "grid_template_columns": null,
            "flex": null,
            "_model_name": "LayoutModel",
            "justify_items": null,
            "grid_row": null,
            "max_height": null,
            "align_content": null,
            "visibility": null,
            "align_self": null,
            "height": null,
            "min_height": null,
            "padding": null,
            "grid_auto_rows": null,
            "grid_gap": null,
            "max_width": null,
            "order": null,
            "_view_module_version": "1.2.0",
            "grid_template_areas": null,
            "object_position": null,
            "object_fit": null,
            "grid_auto_columns": null,
            "margin": null,
            "display": null,
            "left": null
          }
        },
        "4b0a7823248b4018afad9cf5cf41c571": {
          "model_module": "@jupyter-widgets/controls",
          "model_name": "DescriptionStyleModel",
          "state": {
            "_view_name": "StyleView",
            "_model_name": "DescriptionStyleModel",
            "description_width": "",
            "_view_module": "@jupyter-widgets/base",
            "_model_module_version": "1.5.0",
            "_view_count": null,
            "_view_module_version": "1.2.0",
            "_model_module": "@jupyter-widgets/controls"
          }
        },
        "897f709a807f4c3fa928f0d84639234d": {
          "model_module": "@jupyter-widgets/base",
          "model_name": "LayoutModel",
          "state": {
            "_view_name": "LayoutView",
            "grid_template_rows": null,
            "right": null,
            "justify_content": null,
            "_view_module": "@jupyter-widgets/base",
            "overflow": null,
            "_model_module_version": "1.2.0",
            "_view_count": null,
            "flex_flow": null,
            "width": null,
            "min_width": null,
            "border": null,
            "align_items": null,
            "bottom": null,
            "_model_module": "@jupyter-widgets/base",
            "top": null,
            "grid_column": null,
            "overflow_y": null,
            "overflow_x": null,
            "grid_auto_flow": null,
            "grid_area": null,
            "grid_template_columns": null,
            "flex": null,
            "_model_name": "LayoutModel",
            "justify_items": null,
            "grid_row": null,
            "max_height": null,
            "align_content": null,
            "visibility": null,
            "align_self": null,
            "height": null,
            "min_height": null,
            "padding": null,
            "grid_auto_rows": null,
            "grid_gap": null,
            "max_width": null,
            "order": null,
            "_view_module_version": "1.2.0",
            "grid_template_areas": null,
            "object_position": null,
            "object_fit": null,
            "grid_auto_columns": null,
            "margin": null,
            "display": null,
            "left": null
          }
        },
        "d3476bec6c6e4f90a2e7917a12fa1ecf": {
          "model_module": "@jupyter-widgets/controls",
          "model_name": "HBoxModel",
          "state": {
            "_view_name": "HBoxView",
            "_dom_classes": [],
            "_model_name": "HBoxModel",
            "_view_module": "@jupyter-widgets/controls",
            "_model_module_version": "1.5.0",
            "_view_count": null,
            "_view_module_version": "1.5.0",
            "box_style": "",
            "layout": "IPY_MODEL_33e27986da1542ffb408aa0038d12eb9",
            "_model_module": "@jupyter-widgets/controls",
            "children": [
              "IPY_MODEL_dce0cf9511484bc6949e3137d0f6d07e",
              "IPY_MODEL_0eea09fa95cf4bc3bb4bea4af094a60e"
            ]
          }
        },
        "33e27986da1542ffb408aa0038d12eb9": {
          "model_module": "@jupyter-widgets/base",
          "model_name": "LayoutModel",
          "state": {
            "_view_name": "LayoutView",
            "grid_template_rows": null,
            "right": null,
            "justify_content": null,
            "_view_module": "@jupyter-widgets/base",
            "overflow": null,
            "_model_module_version": "1.2.0",
            "_view_count": null,
            "flex_flow": null,
            "width": null,
            "min_width": null,
            "border": null,
            "align_items": null,
            "bottom": null,
            "_model_module": "@jupyter-widgets/base",
            "top": null,
            "grid_column": null,
            "overflow_y": null,
            "overflow_x": null,
            "grid_auto_flow": null,
            "grid_area": null,
            "grid_template_columns": null,
            "flex": null,
            "_model_name": "LayoutModel",
            "justify_items": null,
            "grid_row": null,
            "max_height": null,
            "align_content": null,
            "visibility": null,
            "align_self": null,
            "height": null,
            "min_height": null,
            "padding": null,
            "grid_auto_rows": null,
            "grid_gap": null,
            "max_width": null,
            "order": null,
            "_view_module_version": "1.2.0",
            "grid_template_areas": null,
            "object_position": null,
            "object_fit": null,
            "grid_auto_columns": null,
            "margin": null,
            "display": null,
            "left": null
          }
        },
        "dce0cf9511484bc6949e3137d0f6d07e": {
          "model_module": "@jupyter-widgets/controls",
          "model_name": "FloatProgressModel",
          "state": {
            "_view_name": "ProgressView",
            "style": "IPY_MODEL_baae573c1efa4de7a770457789d64268",
            "_dom_classes": [],
            "description": "100%",
            "_model_name": "FloatProgressModel",
            "bar_style": "success",
            "max": 1,
            "_view_module": "@jupyter-widgets/controls",
            "_model_module_version": "1.5.0",
            "value": 1,
            "_view_count": null,
            "_view_module_version": "1.5.0",
            "orientation": "horizontal",
            "min": 0,
            "description_tooltip": null,
            "_model_module": "@jupyter-widgets/controls",
            "layout": "IPY_MODEL_93bb75098cea46c28c63ea4e7238fa8c"
          }
        },
        "0eea09fa95cf4bc3bb4bea4af094a60e": {
          "model_module": "@jupyter-widgets/controls",
          "model_name": "HTMLModel",
          "state": {
            "_view_name": "HTMLView",
            "style": "IPY_MODEL_8a5a48e454854f7997bf64d02a047616",
            "_dom_classes": [],
            "description": "",
            "_model_name": "HTMLModel",
            "placeholder": "​",
            "_view_module": "@jupyter-widgets/controls",
            "_model_module_version": "1.5.0",
            "value": " 1/1 [06:30&lt;00:00, 390.40s/ba]",
            "_view_count": null,
            "_view_module_version": "1.5.0",
            "description_tooltip": null,
            "_model_module": "@jupyter-widgets/controls",
            "layout": "IPY_MODEL_4ff1b09f2f9145d7a497b49453f9041f"
          }
        },
        "baae573c1efa4de7a770457789d64268": {
          "model_module": "@jupyter-widgets/controls",
          "model_name": "ProgressStyleModel",
          "state": {
            "_view_name": "StyleView",
            "_model_name": "ProgressStyleModel",
            "description_width": "initial",
            "_view_module": "@jupyter-widgets/base",
            "_model_module_version": "1.5.0",
            "_view_count": null,
            "_view_module_version": "1.2.0",
            "bar_color": null,
            "_model_module": "@jupyter-widgets/controls"
          }
        },
        "93bb75098cea46c28c63ea4e7238fa8c": {
          "model_module": "@jupyter-widgets/base",
          "model_name": "LayoutModel",
          "state": {
            "_view_name": "LayoutView",
            "grid_template_rows": null,
            "right": null,
            "justify_content": null,
            "_view_module": "@jupyter-widgets/base",
            "overflow": null,
            "_model_module_version": "1.2.0",
            "_view_count": null,
            "flex_flow": null,
            "width": null,
            "min_width": null,
            "border": null,
            "align_items": null,
            "bottom": null,
            "_model_module": "@jupyter-widgets/base",
            "top": null,
            "grid_column": null,
            "overflow_y": null,
            "overflow_x": null,
            "grid_auto_flow": null,
            "grid_area": null,
            "grid_template_columns": null,
            "flex": null,
            "_model_name": "LayoutModel",
            "justify_items": null,
            "grid_row": null,
            "max_height": null,
            "align_content": null,
            "visibility": null,
            "align_self": null,
            "height": null,
            "min_height": null,
            "padding": null,
            "grid_auto_rows": null,
            "grid_gap": null,
            "max_width": null,
            "order": null,
            "_view_module_version": "1.2.0",
            "grid_template_areas": null,
            "object_position": null,
            "object_fit": null,
            "grid_auto_columns": null,
            "margin": null,
            "display": null,
            "left": null
          }
        },
        "8a5a48e454854f7997bf64d02a047616": {
          "model_module": "@jupyter-widgets/controls",
          "model_name": "DescriptionStyleModel",
          "state": {
            "_view_name": "StyleView",
            "_model_name": "DescriptionStyleModel",
            "description_width": "",
            "_view_module": "@jupyter-widgets/base",
            "_model_module_version": "1.5.0",
            "_view_count": null,
            "_view_module_version": "1.2.0",
            "_model_module": "@jupyter-widgets/controls"
          }
        },
        "4ff1b09f2f9145d7a497b49453f9041f": {
          "model_module": "@jupyter-widgets/base",
          "model_name": "LayoutModel",
          "state": {
            "_view_name": "LayoutView",
            "grid_template_rows": null,
            "right": null,
            "justify_content": null,
            "_view_module": "@jupyter-widgets/base",
            "overflow": null,
            "_model_module_version": "1.2.0",
            "_view_count": null,
            "flex_flow": null,
            "width": null,
            "min_width": null,
            "border": null,
            "align_items": null,
            "bottom": null,
            "_model_module": "@jupyter-widgets/base",
            "top": null,
            "grid_column": null,
            "overflow_y": null,
            "overflow_x": null,
            "grid_auto_flow": null,
            "grid_area": null,
            "grid_template_columns": null,
            "flex": null,
            "_model_name": "LayoutModel",
            "justify_items": null,
            "grid_row": null,
            "max_height": null,
            "align_content": null,
            "visibility": null,
            "align_self": null,
            "height": null,
            "min_height": null,
            "padding": null,
            "grid_auto_rows": null,
            "grid_gap": null,
            "max_width": null,
            "order": null,
            "_view_module_version": "1.2.0",
            "grid_template_areas": null,
            "object_position": null,
            "object_fit": null,
            "grid_auto_columns": null,
            "margin": null,
            "display": null,
            "left": null
          }
        },
        "bfa039c49b70430d9d15b99a5a305873": {
          "model_module": "@jupyter-widgets/controls",
          "model_name": "HBoxModel",
          "state": {
            "_view_name": "HBoxView",
            "_dom_classes": [],
            "_model_name": "HBoxModel",
            "_view_module": "@jupyter-widgets/controls",
            "_model_module_version": "1.5.0",
            "_view_count": null,
            "_view_module_version": "1.5.0",
            "box_style": "",
            "layout": "IPY_MODEL_7d2bd0a92dd7421989b1b5369bd74d96",
            "_model_module": "@jupyter-widgets/controls",
            "children": [
              "IPY_MODEL_d85fa71a78f243ef98066ae829cf4fdf",
              "IPY_MODEL_69c48b0f3b3046e6b81f34e1ef27d5a1"
            ]
          }
        },
        "7d2bd0a92dd7421989b1b5369bd74d96": {
          "model_module": "@jupyter-widgets/base",
          "model_name": "LayoutModel",
          "state": {
            "_view_name": "LayoutView",
            "grid_template_rows": null,
            "right": null,
            "justify_content": null,
            "_view_module": "@jupyter-widgets/base",
            "overflow": null,
            "_model_module_version": "1.2.0",
            "_view_count": null,
            "flex_flow": null,
            "width": null,
            "min_width": null,
            "border": null,
            "align_items": null,
            "bottom": null,
            "_model_module": "@jupyter-widgets/base",
            "top": null,
            "grid_column": null,
            "overflow_y": null,
            "overflow_x": null,
            "grid_auto_flow": null,
            "grid_area": null,
            "grid_template_columns": null,
            "flex": null,
            "_model_name": "LayoutModel",
            "justify_items": null,
            "grid_row": null,
            "max_height": null,
            "align_content": null,
            "visibility": null,
            "align_self": null,
            "height": null,
            "min_height": null,
            "padding": null,
            "grid_auto_rows": null,
            "grid_gap": null,
            "max_width": null,
            "order": null,
            "_view_module_version": "1.2.0",
            "grid_template_areas": null,
            "object_position": null,
            "object_fit": null,
            "grid_auto_columns": null,
            "margin": null,
            "display": null,
            "left": null
          }
        },
        "d85fa71a78f243ef98066ae829cf4fdf": {
          "model_module": "@jupyter-widgets/controls",
          "model_name": "FloatProgressModel",
          "state": {
            "_view_name": "ProgressView",
            "style": "IPY_MODEL_3a118e0891c84926ba8b34fc4307a225",
            "_dom_classes": [],
            "description": "100%",
            "_model_name": "FloatProgressModel",
            "bar_style": "success",
            "max": 1,
            "_view_module": "@jupyter-widgets/controls",
            "_model_module_version": "1.5.0",
            "value": 1,
            "_view_count": null,
            "_view_module_version": "1.5.0",
            "orientation": "horizontal",
            "min": 0,
            "description_tooltip": null,
            "_model_module": "@jupyter-widgets/controls",
            "layout": "IPY_MODEL_f8027a01045447e29a7107cfb3206ff8"
          }
        },
        "69c48b0f3b3046e6b81f34e1ef27d5a1": {
          "model_module": "@jupyter-widgets/controls",
          "model_name": "HTMLModel",
          "state": {
            "_view_name": "HTMLView",
            "style": "IPY_MODEL_556af78698d6481784e3fd43ff759beb",
            "_dom_classes": [],
            "description": "",
            "_model_name": "HTMLModel",
            "placeholder": "​",
            "_view_module": "@jupyter-widgets/controls",
            "_model_module_version": "1.5.0",
            "value": " 1/1 [00:09&lt;00:00,  9.11s/ba]",
            "_view_count": null,
            "_view_module_version": "1.5.0",
            "description_tooltip": null,
            "_model_module": "@jupyter-widgets/controls",
            "layout": "IPY_MODEL_c59ff3e86e66463bab9a3dfd2b0c5a6e"
          }
        },
        "3a118e0891c84926ba8b34fc4307a225": {
          "model_module": "@jupyter-widgets/controls",
          "model_name": "ProgressStyleModel",
          "state": {
            "_view_name": "StyleView",
            "_model_name": "ProgressStyleModel",
            "description_width": "initial",
            "_view_module": "@jupyter-widgets/base",
            "_model_module_version": "1.5.0",
            "_view_count": null,
            "_view_module_version": "1.2.0",
            "bar_color": null,
            "_model_module": "@jupyter-widgets/controls"
          }
        },
        "f8027a01045447e29a7107cfb3206ff8": {
          "model_module": "@jupyter-widgets/base",
          "model_name": "LayoutModel",
          "state": {
            "_view_name": "LayoutView",
            "grid_template_rows": null,
            "right": null,
            "justify_content": null,
            "_view_module": "@jupyter-widgets/base",
            "overflow": null,
            "_model_module_version": "1.2.0",
            "_view_count": null,
            "flex_flow": null,
            "width": null,
            "min_width": null,
            "border": null,
            "align_items": null,
            "bottom": null,
            "_model_module": "@jupyter-widgets/base",
            "top": null,
            "grid_column": null,
            "overflow_y": null,
            "overflow_x": null,
            "grid_auto_flow": null,
            "grid_area": null,
            "grid_template_columns": null,
            "flex": null,
            "_model_name": "LayoutModel",
            "justify_items": null,
            "grid_row": null,
            "max_height": null,
            "align_content": null,
            "visibility": null,
            "align_self": null,
            "height": null,
            "min_height": null,
            "padding": null,
            "grid_auto_rows": null,
            "grid_gap": null,
            "max_width": null,
            "order": null,
            "_view_module_version": "1.2.0",
            "grid_template_areas": null,
            "object_position": null,
            "object_fit": null,
            "grid_auto_columns": null,
            "margin": null,
            "display": null,
            "left": null
          }
        },
        "556af78698d6481784e3fd43ff759beb": {
          "model_module": "@jupyter-widgets/controls",
          "model_name": "DescriptionStyleModel",
          "state": {
            "_view_name": "StyleView",
            "_model_name": "DescriptionStyleModel",
            "description_width": "",
            "_view_module": "@jupyter-widgets/base",
            "_model_module_version": "1.5.0",
            "_view_count": null,
            "_view_module_version": "1.2.0",
            "_model_module": "@jupyter-widgets/controls"
          }
        },
        "c59ff3e86e66463bab9a3dfd2b0c5a6e": {
          "model_module": "@jupyter-widgets/base",
          "model_name": "LayoutModel",
          "state": {
            "_view_name": "LayoutView",
            "grid_template_rows": null,
            "right": null,
            "justify_content": null,
            "_view_module": "@jupyter-widgets/base",
            "overflow": null,
            "_model_module_version": "1.2.0",
            "_view_count": null,
            "flex_flow": null,
            "width": null,
            "min_width": null,
            "border": null,
            "align_items": null,
            "bottom": null,
            "_model_module": "@jupyter-widgets/base",
            "top": null,
            "grid_column": null,
            "overflow_y": null,
            "overflow_x": null,
            "grid_auto_flow": null,
            "grid_area": null,
            "grid_template_columns": null,
            "flex": null,
            "_model_name": "LayoutModel",
            "justify_items": null,
            "grid_row": null,
            "max_height": null,
            "align_content": null,
            "visibility": null,
            "align_self": null,
            "height": null,
            "min_height": null,
            "padding": null,
            "grid_auto_rows": null,
            "grid_gap": null,
            "max_width": null,
            "order": null,
            "_view_module_version": "1.2.0",
            "grid_template_areas": null,
            "object_position": null,
            "object_fit": null,
            "grid_auto_columns": null,
            "margin": null,
            "display": null,
            "left": null
          }
        }
      }
    },
    "accelerator": "GPU"
  },
  "cells": [
    {
      "cell_type": "markdown",
      "metadata": {
        "id": "Ri78HILAOphX"
      },
      "source": [
        "\n",
        "\n",
        "This Notebook provide implementation of a news headline generator model using encoder decoder architecture for a given news content.\n",
        "*   It uses Huggingface provided 'EncoderDecoderModel' to initialize a pretrained BERT model as encoder and decoder and further trained on the news dataset.\n",
        "*   This showcases result of Bleu and Rouge2 (precision, recall,f1score) score evaluation on test dataset\n",
        "*   This shows headline generation using trained model for some sample test news data record.\n",
        "\n",
        "*   Used Decoding technique: \n",
        "    1.   Greedy Search, used for generating single headline\n",
        "    2.   Beam search, used for generating multiple headline \n",
        "    3.   Beam Search with repetition penalty (for repition of ngram, used n=2), used for generating multiple relatively diverse headline\n"
      ]
    },
    {
      "cell_type": "code",
      "metadata": {
        "colab": {
          "base_uri": "https://localhost:8080/"
        },
        "id": "RRsHQe2AcV0e",
        "outputId": "ba506f84-2b80-4361-eb84-f74e401752b5"
      },
      "source": [
        "'''\n",
        "mount google drive\n",
        "'''\n",
        "from google.colab import drive\n",
        "drive.mount('/content/gdrive')"
      ],
      "execution_count": null,
      "outputs": [
        {
          "output_type": "stream",
          "text": [
            "Mounted at /content/gdrive\n"
          ],
          "name": "stdout"
        }
      ]
    },
    {
      "cell_type": "code",
      "metadata": {
        "colab": {
          "base_uri": "https://localhost:8080/"
        },
        "id": "Xx-njV4VcY94",
        "outputId": "4781eea5-554f-41c7-8025-505a8400d75c"
      },
      "source": [
        "'''\n",
        "install required libraries\n",
        "'''\n",
        "!pip install transformers\n",
        "!pip install datasets\n",
        "!pip install rouge_score\n",
        "!pip install sacrebleu"
      ],
      "execution_count": null,
      "outputs": [
        {
          "output_type": "stream",
          "text": [
            "Collecting transformers\n",
            "\u001b[?25l  Downloading https://files.pythonhosted.org/packages/00/92/6153f4912b84ee1ab53ab45663d23e7cf3704161cb5ef18b0c07e207cef2/transformers-4.7.0-py3-none-any.whl (2.5MB)\n",
            "\u001b[K     |████████████████████████████████| 2.5MB 8.1MB/s \n",
            "\u001b[?25hRequirement already satisfied: pyyaml in /usr/local/lib/python3.7/dist-packages (from transformers) (3.13)\n",
            "Requirement already satisfied: packaging in /usr/local/lib/python3.7/dist-packages (from transformers) (20.9)\n",
            "Collecting sacremoses\n",
            "\u001b[?25l  Downloading https://files.pythonhosted.org/packages/75/ee/67241dc87f266093c533a2d4d3d69438e57d7a90abb216fa076e7d475d4a/sacremoses-0.0.45-py3-none-any.whl (895kB)\n",
            "\u001b[K     |████████████████████████████████| 901kB 63.0MB/s \n",
            "\u001b[?25hCollecting huggingface-hub==0.0.8\n",
            "  Downloading https://files.pythonhosted.org/packages/a1/88/7b1e45720ecf59c6c6737ff332f41c955963090a18e72acbcbeac6b25e86/huggingface_hub-0.0.8-py3-none-any.whl\n",
            "Collecting tokenizers<0.11,>=0.10.1\n",
            "\u001b[?25l  Downloading https://files.pythonhosted.org/packages/d4/e2/df3543e8ffdab68f5acc73f613de9c2b155ac47f162e725dcac87c521c11/tokenizers-0.10.3-cp37-cp37m-manylinux_2_5_x86_64.manylinux1_x86_64.manylinux_2_12_x86_64.manylinux2010_x86_64.whl (3.3MB)\n",
            "\u001b[K     |████████████████████████████████| 3.3MB 53.5MB/s \n",
            "\u001b[?25hRequirement already satisfied: filelock in /usr/local/lib/python3.7/dist-packages (from transformers) (3.0.12)\n",
            "Requirement already satisfied: importlib-metadata; python_version < \"3.8\" in /usr/local/lib/python3.7/dist-packages (from transformers) (4.5.0)\n",
            "Requirement already satisfied: regex!=2019.12.17 in /usr/local/lib/python3.7/dist-packages (from transformers) (2019.12.20)\n",
            "Requirement already satisfied: numpy>=1.17 in /usr/local/lib/python3.7/dist-packages (from transformers) (1.19.5)\n",
            "Requirement already satisfied: tqdm>=4.27 in /usr/local/lib/python3.7/dist-packages (from transformers) (4.41.1)\n",
            "Requirement already satisfied: requests in /usr/local/lib/python3.7/dist-packages (from transformers) (2.23.0)\n",
            "Requirement already satisfied: pyparsing>=2.0.2 in /usr/local/lib/python3.7/dist-packages (from packaging->transformers) (2.4.7)\n",
            "Requirement already satisfied: six in /usr/local/lib/python3.7/dist-packages (from sacremoses->transformers) (1.15.0)\n",
            "Requirement already satisfied: joblib in /usr/local/lib/python3.7/dist-packages (from sacremoses->transformers) (1.0.1)\n",
            "Requirement already satisfied: click in /usr/local/lib/python3.7/dist-packages (from sacremoses->transformers) (7.1.2)\n",
            "Requirement already satisfied: typing-extensions>=3.6.4; python_version < \"3.8\" in /usr/local/lib/python3.7/dist-packages (from importlib-metadata; python_version < \"3.8\"->transformers) (3.7.4.3)\n",
            "Requirement already satisfied: zipp>=0.5 in /usr/local/lib/python3.7/dist-packages (from importlib-metadata; python_version < \"3.8\"->transformers) (3.4.1)\n",
            "Requirement already satisfied: idna<3,>=2.5 in /usr/local/lib/python3.7/dist-packages (from requests->transformers) (2.10)\n",
            "Requirement already satisfied: certifi>=2017.4.17 in /usr/local/lib/python3.7/dist-packages (from requests->transformers) (2021.5.30)\n",
            "Requirement already satisfied: urllib3!=1.25.0,!=1.25.1,<1.26,>=1.21.1 in /usr/local/lib/python3.7/dist-packages (from requests->transformers) (1.24.3)\n",
            "Requirement already satisfied: chardet<4,>=3.0.2 in /usr/local/lib/python3.7/dist-packages (from requests->transformers) (3.0.4)\n",
            "Installing collected packages: sacremoses, huggingface-hub, tokenizers, transformers\n",
            "Successfully installed huggingface-hub-0.0.8 sacremoses-0.0.45 tokenizers-0.10.3 transformers-4.7.0\n",
            "Collecting datasets\n",
            "\u001b[?25l  Downloading https://files.pythonhosted.org/packages/08/a2/d4e1024c891506e1cee8f9d719d20831bac31cb5b7416983c4d2f65a6287/datasets-1.8.0-py3-none-any.whl (237kB)\n",
            "\u001b[K     |████████████████████████████████| 245kB 8.1MB/s \n",
            "\u001b[?25hCollecting fsspec\n",
            "\u001b[?25l  Downloading https://files.pythonhosted.org/packages/8e/d2/d05466997f7751a2c06a7a416b7d1f131d765f7916698d3fdcb3a4d037e5/fsspec-2021.6.0-py3-none-any.whl (114kB)\n",
            "\u001b[K     |████████████████████████████████| 122kB 59.2MB/s \n",
            "\u001b[?25hRequirement already satisfied: huggingface-hub<0.1.0 in /usr/local/lib/python3.7/dist-packages (from datasets) (0.0.8)\n",
            "Requirement already satisfied: dill in /usr/local/lib/python3.7/dist-packages (from datasets) (0.3.4)\n",
            "Collecting xxhash\n",
            "\u001b[?25l  Downloading https://files.pythonhosted.org/packages/7d/4f/0a862cad26aa2ed7a7cd87178cbbfa824fc1383e472d63596a0d018374e7/xxhash-2.0.2-cp37-cp37m-manylinux2010_x86_64.whl (243kB)\n",
            "\u001b[K     |████████████████████████████████| 245kB 56.6MB/s \n",
            "\u001b[?25hRequirement already satisfied: importlib-metadata; python_version < \"3.8\" in /usr/local/lib/python3.7/dist-packages (from datasets) (4.5.0)\n",
            "Requirement already satisfied: multiprocess in /usr/local/lib/python3.7/dist-packages (from datasets) (0.70.12.2)\n",
            "Requirement already satisfied: packaging in /usr/local/lib/python3.7/dist-packages (from datasets) (20.9)\n",
            "Requirement already satisfied: tqdm<4.50.0,>=4.27 in /usr/local/lib/python3.7/dist-packages (from datasets) (4.41.1)\n",
            "Requirement already satisfied: pandas in /usr/local/lib/python3.7/dist-packages (from datasets) (1.1.5)\n",
            "Requirement already satisfied: pyarrow<4.0.0,>=1.0.0 in /usr/local/lib/python3.7/dist-packages (from datasets) (3.0.0)\n",
            "Requirement already satisfied: numpy>=1.17 in /usr/local/lib/python3.7/dist-packages (from datasets) (1.19.5)\n",
            "Requirement already satisfied: requests>=2.19.0 in /usr/local/lib/python3.7/dist-packages (from datasets) (2.23.0)\n",
            "Requirement already satisfied: filelock in /usr/local/lib/python3.7/dist-packages (from huggingface-hub<0.1.0->datasets) (3.0.12)\n",
            "Requirement already satisfied: zipp>=0.5 in /usr/local/lib/python3.7/dist-packages (from importlib-metadata; python_version < \"3.8\"->datasets) (3.4.1)\n",
            "Requirement already satisfied: typing-extensions>=3.6.4; python_version < \"3.8\" in /usr/local/lib/python3.7/dist-packages (from importlib-metadata; python_version < \"3.8\"->datasets) (3.7.4.3)\n",
            "Requirement already satisfied: pyparsing>=2.0.2 in /usr/local/lib/python3.7/dist-packages (from packaging->datasets) (2.4.7)\n",
            "Requirement already satisfied: pytz>=2017.2 in /usr/local/lib/python3.7/dist-packages (from pandas->datasets) (2018.9)\n",
            "Requirement already satisfied: python-dateutil>=2.7.3 in /usr/local/lib/python3.7/dist-packages (from pandas->datasets) (2.8.1)\n",
            "Requirement already satisfied: certifi>=2017.4.17 in /usr/local/lib/python3.7/dist-packages (from requests>=2.19.0->datasets) (2021.5.30)\n",
            "Requirement already satisfied: idna<3,>=2.5 in /usr/local/lib/python3.7/dist-packages (from requests>=2.19.0->datasets) (2.10)\n",
            "Requirement already satisfied: urllib3!=1.25.0,!=1.25.1,<1.26,>=1.21.1 in /usr/local/lib/python3.7/dist-packages (from requests>=2.19.0->datasets) (1.24.3)\n",
            "Requirement already satisfied: chardet<4,>=3.0.2 in /usr/local/lib/python3.7/dist-packages (from requests>=2.19.0->datasets) (3.0.4)\n",
            "Requirement already satisfied: six>=1.5 in /usr/local/lib/python3.7/dist-packages (from python-dateutil>=2.7.3->pandas->datasets) (1.15.0)\n",
            "Installing collected packages: fsspec, xxhash, datasets\n",
            "Successfully installed datasets-1.8.0 fsspec-2021.6.0 xxhash-2.0.2\n",
            "Collecting rouge_score\n",
            "  Downloading https://files.pythonhosted.org/packages/1f/56/a81022436c08b9405a5247b71635394d44fe7e1dbedc4b28c740e09c2840/rouge_score-0.0.4-py2.py3-none-any.whl\n",
            "Requirement already satisfied: nltk in /usr/local/lib/python3.7/dist-packages (from rouge_score) (3.2.5)\n",
            "Requirement already satisfied: numpy in /usr/local/lib/python3.7/dist-packages (from rouge_score) (1.19.5)\n",
            "Requirement already satisfied: six>=1.14.0 in /usr/local/lib/python3.7/dist-packages (from rouge_score) (1.15.0)\n",
            "Requirement already satisfied: absl-py in /usr/local/lib/python3.7/dist-packages (from rouge_score) (0.12.0)\n",
            "Installing collected packages: rouge-score\n",
            "Successfully installed rouge-score-0.0.4\n",
            "Collecting sacrebleu\n",
            "\u001b[?25l  Downloading https://files.pythonhosted.org/packages/7e/57/0c7ca4e31a126189dab99c19951910bd081dea5bbd25f24b77107750eae7/sacrebleu-1.5.1-py3-none-any.whl (54kB)\n",
            "\u001b[K     |████████████████████████████████| 61kB 4.7MB/s \n",
            "\u001b[?25hCollecting portalocker==2.0.0\n",
            "  Downloading https://files.pythonhosted.org/packages/89/a6/3814b7107e0788040870e8825eebf214d72166adf656ba7d4bf14759a06a/portalocker-2.0.0-py2.py3-none-any.whl\n",
            "Installing collected packages: portalocker, sacrebleu\n",
            "Successfully installed portalocker-2.0.0 sacrebleu-1.5.1\n"
          ],
          "name": "stdout"
        }
      ]
    },
    {
      "cell_type": "code",
      "metadata": {
        "id": "PmiId9M6cs3T"
      },
      "source": [
        "'''\n",
        "import required packages\n",
        "'''\n",
        "from datasets import Dataset\n",
        "import datasets\n",
        "from transformers import BertTokenizerFast\n",
        "from transformers import EncoderDecoderModel\n",
        "from transformers import Seq2SeqTrainingArguments, Seq2SeqTrainer\n",
        "\n",
        "import pandas as pd\n",
        "import numpy as np\n",
        "\n",
        "import random"
      ],
      "execution_count": null,
      "outputs": []
    },
    {
      "cell_type": "code",
      "metadata": {
        "id": "kpVzTqdIVYoB"
      },
      "source": [
        "'''\n",
        "pandas configuration for showing complete content of record\n",
        "'''\n",
        "pd.set_option('display.max_rows', None)\n",
        "pd.set_option('display.max_columns', None)\n",
        "pd.set_option('display.width', 2000)\n",
        "pd.set_option('display.float_format', '{:20,.2f}'.format)\n",
        "pd.set_option('display.max_colwidth', None)"
      ],
      "execution_count": null,
      "outputs": []
    },
    {
      "cell_type": "code",
      "metadata": {
        "colab": {
          "base_uri": "https://localhost:8080/",
          "height": 1000
        },
        "id": "d2D026mGdRL8",
        "outputId": "644847c0-8485-4b6f-8a15-2d00ea9af2a0"
      },
      "source": [
        "'''\n",
        "load news data and show some sample record\n",
        "'''\n",
        "data_path='/content/gdrive/My Drive/Capstone_Project/Data/News_Data/news_article_with_sim_score.df'\n",
        "article_df=pd.read_pickle(data_path)\n",
        "print('News Article Dataframe shape: ',article_df.shape)\n",
        "print('*********** sample records ***********')\n",
        "article_df.sample(2)"
      ],
      "execution_count": null,
      "outputs": [
        {
          "output_type": "stream",
          "text": [
            "News Article Dataframe shape:  (3000, 9)\n",
            "*********** sample records ***********\n"
          ],
          "name": "stdout"
        },
        {
          "output_type": "execute_result",
          "data": {
            "text/html": [
              "<div>\n",
              "<style scoped>\n",
              "    .dataframe tbody tr th:only-of-type {\n",
              "        vertical-align: middle;\n",
              "    }\n",
              "\n",
              "    .dataframe tbody tr th {\n",
              "        vertical-align: top;\n",
              "    }\n",
              "\n",
              "    .dataframe thead th {\n",
              "        text-align: right;\n",
              "    }\n",
              "</style>\n",
              "<table border=\"1\" class=\"dataframe\">\n",
              "  <thead>\n",
              "    <tr style=\"text-align: right;\">\n",
              "      <th></th>\n",
              "      <th>article_url</th>\n",
              "      <th>headline</th>\n",
              "      <th>content</th>\n",
              "      <th>author</th>\n",
              "      <th>published_date</th>\n",
              "      <th>read_more_source</th>\n",
              "      <th>similar_headline</th>\n",
              "      <th>similar_headline_url</th>\n",
              "      <th>similarity_scores</th>\n",
              "    </tr>\n",
              "  </thead>\n",
              "  <tbody>\n",
              "    <tr>\n",
              "      <th>1912</th>\n",
              "      <td>https://inshorts.com/en/news/i-was-offered-johns-parmanu-but-i-turned-it-down-himanshi-khurana-1614262680794</td>\n",
              "      <td>I was offered John's 'Parmanu' but I turned it down: Himanshi Khurana</td>\n",
              "      <td>Former Bigg Boss contestant Himanshi Khurana revealed that she was offered to play John Abraham's wife in 2018 film 'Parmanu: The Story of Pokhran'. \"I was not able to believe it...I was thinking...why would somebody offer this role to someone from Punjab?\" she said, adding, \"My mind was puzzled...and I said no. But later I came to know...opportunity was real.\"</td>\n",
              "      <td>None</td>\n",
              "      <td>2021-02-25T14:18:00.000Z</td>\n",
              "      <td>Hindustan Times</td>\n",
              "      <td>[Himanshi Khurana Reveals The Reason Behind Turning Down John Abraham's Parmanu, Himanshi Khurana Revealed She Passed Up An Offer To Star Opposite John Abraham In Parmanu; Find Out Why, Himanshi Khurana: 'I Was Offered John Abraham's Parmanu But I Lost It Thinking The Offer Is Unreal', Here Is Why Himanshi Khurana Rejected Bollywood film Opposite John Abraham, Himanshi Khurana Reveals The Reason Behind Turning Down John Abraham's Parmanu]</td>\n",
              "      <td>[https://www.filmibeat.com/television/news/2021/himanshi-khurana-reveals-the-reason-behind-turning-down-john-abraham-parmanu-310432.html, https://www.desimartini.com/news/martini-shots/trending/himanshi-khurana-revealed-she-passed-up-an-offer-to-star-opposite-john-abraham-in-parmanu-find-out-why-article176052.htm, https://www.spotboye.com/television/television-news/himanshi-khurana-i-was-offered-john-abraham-s-parmanu-but-i-lost-it-thinking-the-offer-is-unreal-exclusive-video/60375c7e8110c7652e25d91e, https://kiddaan.com/here-is-why-himanshi-khurana-rejected-bollywood-film-opposite-john-abraham/, https://www.ethicaleditor.com/entertainment/himanshi-khurana-reveals-the-reason-behind-turning-down-john-abrahams-parmanu/]</td>\n",
              "      <td>[0.5, 0.55, 0.64, 0.38, 0.5]</td>\n",
              "    </tr>\n",
              "    <tr>\n",
              "      <th>2280</th>\n",
              "      <td>https://inshorts.com/en/news/india-reports-13742-new-covid19-cases-104-deaths-in-24-hours-1614145110407</td>\n",
              "      <td>India reports 13,742 new COVID-19 cases, 104 deaths in 24 hours</td>\n",
              "      <td>India has reported 13,742 new COVID-19 cases and 104 fatalities in the last 24 hours, as per the Union Health Ministry. With this, the country's total cases rose to 1,10,30,176, while the death toll reached 1,56,567. As many as 14,037 patients were discharged in a day, taking the total recoveries to 1,07,26,702. Active cases now stand at 1,46,907.</td>\n",
              "      <td>None</td>\n",
              "      <td>2021-02-24</td>\n",
              "      <td>Twitter</td>\n",
              "      <td>[India reports 13 742 new COVID 19 cases 104 deaths in last 24 hours-ANI, \\n    covid-19: Covid-19: India records 13,742 new cases, 104 fresh fatalities, Health News, ET HealthWorld, Latest News Highlights: India Records 13,742 New Infections, 104 Deaths In 24 Hours, \\r\\n\\tIndia reports 13,742 new COVID cases, 104 deaths\\r\\n, Covid surge: India reports 13,742 infections, 104 deaths in 24 hours, COVID-19: India records 13,742 new cases, 104 fresh fatalities, India reports 13,742 new COVID-19 cases, 104 deaths in last 24 hours, COVID-19: India reports 13,742 cases, 104 deaths, India reports 13,742 new COVID-19 cases, 104 deaths in last 24 hours, COVID-19 latest updates: India reports 13,742 new cases, 104 fresh fatalities in last 24 hours]</td>\n",
              "      <td>[http://www.businessworld.in/article/India-reports-13-742-new-COVID-19-cases-104-deaths-in-last-24-hours/24-02-2021-381060, https://health.economictimes.indiatimes.com/news/diagnostics/covid-19-india-records-13742-new-cases-104-fresh-fatalities/81185204, https://www.ndtv.com/india-news/todays-latest-and-breaking-news-live-updates-on-coronavirus-and-farmers-protest-24-february-2021-2377240, http://www.uniindia.com/news/india/india-reports-13-742-new-covid-cases-104-deaths/2327100.html, https://www.business-standard.com/article/current-affairs/covid-surge-india-reports-13-742-infections-104-deaths-in-24-hours-121022400314_1.html, https://www.thehindu.com/news/national/covid-19-india-records-13742-new-cases-104-fresh-fatalities/article33920403.ece, https://www.aninews.in/news/national/general-news/india-reports-13742-new-covid-19-cases-104-deaths-in-last-24-hours20210224103341, https://www.cnbctv18.com/healthcare/covid-19-india-reports-13742-cases-104-deaths-8407511.htm, https://www.chinimandi.com/india-reports-13742-new-covid-19-cases-104-deaths-in-last-24-hours/, https://www.freepressjournal.in/india/covid-19-latest-updates-india-reports-13742-new-cases-104-fresh-fatalities-in-last-24-hours]</td>\n",
              "      <td>[0.89, 0.75, 0.77, 0.92, 0.77, 0.85, 0.99, 0.91, 0.99, 0.88]</td>\n",
              "    </tr>\n",
              "  </tbody>\n",
              "</table>\n",
              "</div>"
            ],
            "text/plain": [
              "                                                                                                       article_url                                                               headline                                                                                                                                                                                                                                                                                                                                                                      content author            published_date read_more_source                                                                                                                                                                                                                                                                                                                                                                                                                                                                                                                                                                                                                                                                                                                                                             similar_headline  \\\n",
              "1912  https://inshorts.com/en/news/i-was-offered-johns-parmanu-but-i-turned-it-down-himanshi-khurana-1614262680794  I was offered John's 'Parmanu' but I turned it down: Himanshi Khurana  Former Bigg Boss contestant Himanshi Khurana revealed that she was offered to play John Abraham's wife in 2018 film 'Parmanu: The Story of Pokhran'. \"I was not able to believe it...I was thinking...why would somebody offer this role to someone from Punjab?\" she said, adding, \"My mind was puzzled...and I said no. But later I came to know...opportunity was real.\"   None  2021-02-25T14:18:00.000Z  Hindustan Times                                                                                                                                                                                                                                                                                                                   [Himanshi Khurana Reveals The Reason Behind Turning Down John Abraham's Parmanu, Himanshi Khurana Revealed She Passed Up An Offer To Star Opposite John Abraham In Parmanu; Find Out Why, Himanshi Khurana: 'I Was Offered John Abraham's Parmanu But I Lost It Thinking The Offer Is Unreal', Here Is Why Himanshi Khurana Rejected Bollywood film Opposite John Abraham, Himanshi Khurana Reveals The Reason Behind Turning Down John Abraham's Parmanu]   \n",
              "2280       https://inshorts.com/en/news/india-reports-13742-new-covid19-cases-104-deaths-in-24-hours-1614145110407        India reports 13,742 new COVID-19 cases, 104 deaths in 24 hours                India has reported 13,742 new COVID-19 cases and 104 fatalities in the last 24 hours, as per the Union Health Ministry. With this, the country's total cases rose to 1,10,30,176, while the death toll reached 1,56,567. As many as 14,037 patients were discharged in a day, taking the total recoveries to 1,07,26,702. Active cases now stand at 1,46,907.   None                2021-02-24          Twitter  [India reports 13 742 new COVID 19 cases 104 deaths in last 24 hours-ANI, \\n    covid-19: Covid-19: India records 13,742 new cases, 104 fresh fatalities, Health News, ET HealthWorld, Latest News Highlights: India Records 13,742 New Infections, 104 Deaths In 24 Hours, \\r\\n\\tIndia reports 13,742 new COVID cases, 104 deaths\\r\\n, Covid surge: India reports 13,742 infections, 104 deaths in 24 hours, COVID-19: India records 13,742 new cases, 104 fresh fatalities, India reports 13,742 new COVID-19 cases, 104 deaths in last 24 hours, COVID-19: India reports 13,742 cases, 104 deaths, India reports 13,742 new COVID-19 cases, 104 deaths in last 24 hours, COVID-19 latest updates: India reports 13,742 new cases, 104 fresh fatalities in last 24 hours]   \n",
              "\n",
              "                                                                                                                                                                                                                                                                                                                                                                                                                                                                                                                                                                                                                                                                                                                                                                                                                                                                                                                                                                                                                                                                                                                                                                                                                                           similar_headline_url                                             similarity_scores  \n",
              "1912                                                                                                                                                                                                                                                                                                                                                                                                                                                                                                    [https://www.filmibeat.com/television/news/2021/himanshi-khurana-reveals-the-reason-behind-turning-down-john-abraham-parmanu-310432.html, https://www.desimartini.com/news/martini-shots/trending/himanshi-khurana-revealed-she-passed-up-an-offer-to-star-opposite-john-abraham-in-parmanu-find-out-why-article176052.htm, https://www.spotboye.com/television/television-news/himanshi-khurana-i-was-offered-john-abraham-s-parmanu-but-i-lost-it-thinking-the-offer-is-unreal-exclusive-video/60375c7e8110c7652e25d91e, https://kiddaan.com/here-is-why-himanshi-khurana-rejected-bollywood-film-opposite-john-abraham/, https://www.ethicaleditor.com/entertainment/himanshi-khurana-reveals-the-reason-behind-turning-down-john-abrahams-parmanu/]                                  [0.5, 0.55, 0.64, 0.38, 0.5]  \n",
              "2280  [http://www.businessworld.in/article/India-reports-13-742-new-COVID-19-cases-104-deaths-in-last-24-hours/24-02-2021-381060, https://health.economictimes.indiatimes.com/news/diagnostics/covid-19-india-records-13742-new-cases-104-fresh-fatalities/81185204, https://www.ndtv.com/india-news/todays-latest-and-breaking-news-live-updates-on-coronavirus-and-farmers-protest-24-february-2021-2377240, http://www.uniindia.com/news/india/india-reports-13-742-new-covid-cases-104-deaths/2327100.html, https://www.business-standard.com/article/current-affairs/covid-surge-india-reports-13-742-infections-104-deaths-in-24-hours-121022400314_1.html, https://www.thehindu.com/news/national/covid-19-india-records-13742-new-cases-104-fresh-fatalities/article33920403.ece, https://www.aninews.in/news/national/general-news/india-reports-13742-new-covid-19-cases-104-deaths-in-last-24-hours20210224103341, https://www.cnbctv18.com/healthcare/covid-19-india-reports-13742-cases-104-deaths-8407511.htm, https://www.chinimandi.com/india-reports-13742-new-covid-19-cases-104-deaths-in-last-24-hours/, https://www.freepressjournal.in/india/covid-19-latest-updates-india-reports-13742-new-cases-104-fresh-fatalities-in-last-24-hours]  [0.89, 0.75, 0.77, 0.92, 0.77, 0.85, 0.99, 0.91, 0.99, 0.88]  "
            ]
          },
          "metadata": {
            "tags": []
          },
          "execution_count": 6
        }
      ]
    },
    {
      "cell_type": "code",
      "metadata": {
        "colab": {
          "base_uri": "https://localhost:8080/"
        },
        "id": "-5acGR0DdsEU",
        "outputId": "19d3f0c3-ec74-4f98-8b25-c9d920fd203a"
      },
      "source": [
        "'''\n",
        "converting existing one-to-many mapping to one-to-one mapping\n",
        "'''\n",
        "contents=[]\n",
        "headlines=[]\n",
        "similarity_scores=[]\n",
        "count=0\n",
        "for index, row in article_df.iterrows():\n",
        "  contents.append(row['content'])\n",
        "  headlines.append(row['headline'])\n",
        "  similarity_scores.append(1.0)\n",
        "  for similar_headline,similarity_score in zip(row['similar_headline'],row['similarity_scores']):\n",
        "    contents.append(row['content'])\n",
        "    headlines.append(similar_headline)\n",
        "    similarity_scores.append(similarity_score)\n",
        "\n",
        "print('no of records in training dataset: ',len(headlines))"
      ],
      "execution_count": null,
      "outputs": [
        {
          "output_type": "stream",
          "text": [
            "no of records in training dataset:  23363\n"
          ],
          "name": "stdout"
        }
      ]
    },
    {
      "cell_type": "code",
      "metadata": {
        "colab": {
          "base_uri": "https://localhost:8080/",
          "height": 279
        },
        "id": "R7EQkvF36cok",
        "outputId": "f5e2bbab-0f84-4f73-9980-cff9d84da699"
      },
      "source": [
        "'''\n",
        "plotting similarity scrore distribution of similar headline with respect to reference headline\n",
        "'''\n",
        "import matplotlib.pyplot as plt\n",
        "%matplotlib inline\n",
        "\n",
        "plt.clf\n",
        "#plt.hist(similarity_scores, bins=5,  edgecolor=\"black\", color=\"blue\") #normed=True, \n",
        "counts, bins, _=plt.hist(similarity_scores, bins=[0.0, 0.2, 0.4, 0.6, 0.8, 1.0],  edgecolor=\"black\", color=\"blue\") #normed=True, bins=[140, 150, 160, 175, 185, 200],\n",
        "plt.ylabel('News Article count')\n",
        "plt.xlabel('Similarity Score')\n",
        "for count, bin in zip(counts, bins):\n",
        "        plt.gca().text(bin + 0.05, count, str(count))  # +0.05 to center text\n",
        "\n",
        "plt.show()"
      ],
      "execution_count": null,
      "outputs": [
        {
          "output_type": "display_data",
          "data": {
            "image/png": "[encoded data removed]",
            "text/plain": [
              "<Figure size 432x288 with 1 Axes>"
            ]
          },
          "metadata": {
            "tags": []
          }
        }
      ]
    },
    {
      "cell_type": "code",
      "metadata": {
        "colab": {
          "base_uri": "https://localhost:8080/"
        },
        "id": "mzrGEnfH_0Mh",
        "outputId": "b8f17413-c17b-499f-ac1f-ebf287041327"
      },
      "source": [
        "'''\n",
        "decide threshold for min and max no-of-word-token in headline \n",
        "'''\n",
        "headline_len=[len(headline.split(\" \")) for headline in headlines]\n",
        "print('5th percentile length: ',np.quantile(headline_len, 0.05))\n",
        "print('25th percentile length: ',np.quantile(headline_len, 0.25))\n",
        "print('50th percentile length: ',np.quantile(headline_len, 0.50))\n",
        "print('75th percentile length: ',np.quantile(headline_len, 0.75))\n",
        "print('95th percentile length: ',np.quantile(headline_len, 0.95))\n",
        "print('99th percentile length: ',np.quantile(headline_len, 0.99))"
      ],
      "execution_count": null,
      "outputs": [
        {
          "output_type": "stream",
          "text": [
            "5th percentile length:  3.0\n",
            "25th percentile length:  9.0\n",
            "50th percentile length:  11.0\n",
            "75th percentile length:  14.0\n",
            "95th percentile length:  19.0\n",
            "99th percentile length:  23.0\n"
          ],
          "name": "stdout"
        }
      ]
    },
    {
      "cell_type": "code",
      "metadata": {
        "id": "t8vt-XUSAMN-"
      },
      "source": [
        "'''\n",
        "filtering news record based on similarity score and no-of-word-token in the headline\n",
        "'''\n",
        "min_word_token_in_headline=5\n",
        "max_word_token_in_headline=16\n",
        "min_similarity_score=0.5\n",
        "summaries=[]\n",
        "art_headlines=[]\n",
        "for content,headline,similarity_score in zip(contents,headlines,similarity_scores):\n",
        "   if(similarity_score>min_similarity_score):\n",
        "     headline_len=len(headline.split(' '))\n",
        "     if(min_word_token_in_headline <= headline_len <= max_word_token_in_headline):\n",
        "      summaries.append(content)\n",
        "      art_headlines.append(headline)"
      ],
      "execution_count": null,
      "outputs": []
    },
    {
      "cell_type": "code",
      "metadata": {
        "colab": {
          "base_uri": "https://localhost:8080/"
        },
        "id": "wDjDEmGgAmCy",
        "outputId": "a6b49f5a-d81d-4746-857b-92ce5b27ed41"
      },
      "source": [
        "'''\n",
        "creating summary-headline pair and then randomly shuffle them\n",
        "'''\n",
        "summary_headline_pairs=list(zip(summaries,art_headlines))\n",
        "random.shuffle(summary_headline_pairs)\n",
        "len(summary_headline_pairs)"
      ],
      "execution_count": null,
      "outputs": [
        {
          "output_type": "execute_result",
          "data": {
            "text/plain": [
              "15306"
            ]
          },
          "metadata": {
            "tags": []
          },
          "execution_count": 13
        }
      ]
    },
    {
      "cell_type": "code",
      "metadata": {
        "id": "UtB6H-dleq2Z"
      },
      "source": [
        "'''\n",
        "get train and test dataset\n",
        "'''\n",
        "train_summary_headline_pairs=summary_headline_pairs[0:8000]# it should have been 0:13500. training is taking more than 14 hour that's why having 8000 train record\n",
        "test_summary_headline_pairs=summary_headline_pairs[13500:]\n",
        "no_of_training_records=len(train_summary_headline_pairs)\n"
      ],
      "execution_count": null,
      "outputs": []
    },
    {
      "cell_type": "code",
      "metadata": {
        "colab": {
          "base_uri": "https://localhost:8080/"
        },
        "id": "TBvFuf8Wa6bb",
        "outputId": "d0de8ba3-51b3-4206-9028-3f27e9a62132"
      },
      "source": [
        "'''\n",
        "get a basic understanding of Huggingface dataset (creation from a dictionary, way it stores record)\n",
        "'''\n",
        "df = pd.DataFrame({\"a\": [1, 2, 3]})\n",
        "huggingface_dataset = Dataset.from_pandas(df)\n",
        "print('sample record: ',huggingface_dataset[0])\n",
        "print('record count: ',len(huggingface_dataset))\n",
        "print(huggingface_dataset)"
      ],
      "execution_count": null,
      "outputs": [
        {
          "output_type": "stream",
          "text": [
            "sample record:  {'a': 1}\n",
            "record count:  3\n",
            "Dataset({\n",
            "    features: ['a'],\n",
            "    num_rows: 3\n",
            "})\n"
          ],
          "name": "stdout"
        }
      ]
    },
    {
      "cell_type": "code",
      "metadata": {
        "id": "EV5b2SoikVtj"
      },
      "source": [
        "'''\n",
        "transform training news data in to huggingface dataset format\n",
        "'''\n",
        "summaries=[summary_headline_tuple[0] for summary_headline_tuple in train_summary_headline_pairs]\n",
        "headlines=[summary_headline_tuple[1] for summary_headline_tuple in train_summary_headline_pairs]\n",
        "summary_headline_map={\"summary\":summaries,\"headline\":headlines}\n",
        "train_hf_dataset = Dataset.from_dict(summary_headline_map)"
      ],
      "execution_count": null,
      "outputs": []
    },
    {
      "cell_type": "code",
      "metadata": {
        "id": "9-fBRWT1kwc7"
      },
      "source": [
        "'''\n",
        "transform test news data in to huggingface dataset format\n",
        "'''\n",
        "test_summaries=[summary_headline_tuple[0] for summary_headline_tuple in test_summary_headline_pairs]\n",
        "test_headlines=[summary_headline_tuple[1] for summary_headline_tuple in test_summary_headline_pairs]\n",
        "test_summary_headline_map={\"summary\":test_summaries,\"headline\":test_headlines}\n",
        "test_hf_dataset = Dataset.from_dict(test_summary_headline_map)# test dataset"
      ],
      "execution_count": null,
      "outputs": []
    },
    {
      "cell_type": "code",
      "metadata": {
        "colab": {
          "base_uri": "https://localhost:8080/"
        },
        "id": "jQtP5Nx3f18a",
        "outputId": "c0b36511-551d-45f9-94ce-73dc815cd525"
      },
      "source": [
        "'''\n",
        "show sample summary and headline record from huggingface dataset\n",
        "'''\n",
        "print('******** sample record *******')\n",
        "train_hf_dataset[3]\n",
        "# type(train_hf_dataset) #datasets.arrow_dataset.Dataset"
      ],
      "execution_count": null,
      "outputs": [
        {
          "output_type": "stream",
          "text": [
            "******** sample record *******\n"
          ],
          "name": "stdout"
        },
        {
          "output_type": "execute_result",
          "data": {
            "text/plain": [
              "{'headline': 'Justin Hartley and Chrishell Stause Finalize Divorce',\n",
              " 'summary': \"'This Is Us' star Justin Hartley and his estranged wife Chrishell Stause have reportedly finalised their divorce. According to reports, Justin and Chrishell had signed on their final divorce documents earlier this month. The former couple had tied the knot on October 28, 2017, and split up two years later after Justin filed for divorce in November 2019.\"}"
            ]
          },
          "metadata": {
            "tags": []
          },
          "execution_count": 17
        }
      ]
    },
    {
      "cell_type": "code",
      "metadata": {
        "colab": {
          "base_uri": "https://localhost:8080/"
        },
        "id": "Dhbzqu2JFzTf",
        "outputId": "63faec0e-75a9-413c-9b25-1c6dbf6145c6"
      },
      "source": [
        "train_hf_dataset"
      ],
      "execution_count": null,
      "outputs": [
        {
          "output_type": "execute_result",
          "data": {
            "text/plain": [
              "Dataset({\n",
              "    features: ['summary', 'headline'],\n",
              "    num_rows: 8000\n",
              "})"
            ]
          },
          "metadata": {
            "tags": []
          },
          "execution_count": 18
        }
      ]
    },
    {
      "cell_type": "code",
      "metadata": {
        "id": "7iN06ZwBmrxK"
      },
      "source": [
        "'''\n",
        "instantiate tokenizer\n",
        "'''\n",
        "tokenizer = BertTokenizerFast.from_pretrained(\"bert-base-uncased\")"
      ],
      "execution_count": null,
      "outputs": []
    },
    {
      "cell_type": "code",
      "metadata": {
        "colab": {
          "base_uri": "https://localhost:8080/",
          "height": 217,
          "referenced_widgets": [
            "f275c1a9c16d4a368906d7775ac0a798",
            "52b2c0ba73cd4155b67df679d5cfd71a",
            "594c2466e9d74eef98f4977904e8e140",
            "8fdd1dc9efe64c1da9815cfbcc43684a",
            "5568bc3768ce415f9c7c9557182f0175",
            "4a2ffd563927464c88a8183cf95f9346",
            "e8f274faa5d5480c9b995b8777e08d59",
            "21645d3d239244c8a96c140be969e6de",
            "45686b0af7254b55a8c8348aa376eeed",
            "77e438604a494c8187a4b9c9b02900d0",
            "30d5f9d8130041f4abb3a6ef75ddd520",
            "b66cf4b166c7469282ec336647ff3dd2",
            "e46d42640ac1429b995bfc37993f62b7",
            "6b93434ffdbf48ef9c7bcfb4ca5c8e41",
            "20dfed13c5d14eb69f59b803b5ff13ad",
            "ece541b3f49b4e2581482c474a529a5c"
          ]
        },
        "id": "LF9_64I2nAx6",
        "outputId": "5334e221-4a91-419f-828e-a91a576d2833"
      },
      "source": [
        "'''\n",
        "generate stats of the dataset such as summary length,headline length,  no of summaries with token size greater than 512 etc.\n",
        "'''\n",
        "def map_to_length(x):\n",
        "  x[\"summary_len\"] = len(tokenizer(x[\"summary\"]).input_ids)\n",
        "  x[\"article_longer_512\"] = int(x[\"summary_len\"] > 512)\n",
        "  x[\"headline_len\"] = len(tokenizer(x[\"headline\"]).input_ids)\n",
        "  x[\"headline_longer_64\"] = int(x[\"headline_len\"] > 64)\n",
        "  x[\"headline_longer_128\"] = int(x[\"headline_len\"] > 128)\n",
        "  return x\n",
        "\n",
        "def compute_and_print_stats(x):\n",
        "  if len(x[\"summary_len\"]) == no_of_training_records:\n",
        "    print('maximum summary length ',max(x[\"summary_len\"]))\n",
        "    print('maximum headline length ',max(x[\"headline_len\"]))\n",
        "    print('average summary length ',sum(x[\"summary_len\"])/no_of_training_records)\n",
        "    print('average headline length ',sum(x[\"headline_len\"])/no_of_training_records)\n",
        "    print('headline longer than 128 ',sum(x[\"headline_longer_64\"]))\n",
        "    print('headline longer than 128 ',sum(x[\"headline_longer_128\"]))\n",
        "\n",
        "data_stats = train_hf_dataset.map(map_to_length)\n",
        "output = data_stats.map(compute_and_print_stats, batched=True, batch_size=-1,) #batch size -1 means all record in the dataset will batched together for map call"
      ],
      "execution_count": null,
      "outputs": [
        {
          "output_type": "display_data",
          "data": {
            "application/vnd.jupyter.widget-view+json": {
              "model_id": "f275c1a9c16d4a368906d7775ac0a798",
              "version_major": 2,
              "version_minor": 0
            },
            "text/plain": [
              "HBox(children=(FloatProgress(value=0.0, max=8000.0), HTML(value='')))"
            ]
          },
          "metadata": {
            "tags": []
          }
        },
        {
          "output_type": "stream",
          "text": [
            "\n"
          ],
          "name": "stdout"
        },
        {
          "output_type": "display_data",
          "data": {
            "application/vnd.jupyter.widget-view+json": {
              "model_id": "45686b0af7254b55a8c8348aa376eeed",
              "version_major": 2,
              "version_minor": 0
            },
            "text/plain": [
              "HBox(children=(FloatProgress(value=0.0, max=1.0), HTML(value='')))"
            ]
          },
          "metadata": {
            "tags": []
          }
        },
        {
          "output_type": "stream",
          "text": [
            "maximum summary length  125\n",
            "maximum headline length  36\n",
            "average summary length  82.812125\n",
            "average headline length  18.41725\n",
            "headline longer than 128  0\n",
            "headline longer than 128  0\n",
            "\n"
          ],
          "name": "stdout"
        }
      ]
    },
    {
      "cell_type": "code",
      "metadata": {
        "id": "G7xuwPKep8sH"
      },
      "source": [
        "'''\n",
        "define preprocessing step applied to training data\n",
        "'''\n",
        "\n",
        "encoder_max_length = 125 #deciding based on previous cell output('maximum summary length')\n",
        "decoder_max_length = 40 #deciding based on previous cell output('maximum headline length')\n",
        "\n",
        "def process_data_to_model_inputs(batch):\n",
        "  # tokenize the inputs and labels\n",
        "  inputs = tokenizer(batch[\"summary\"], padding=\"max_length\", truncation=True, max_length=encoder_max_length)\n",
        "  outputs = tokenizer(batch[\"headline\"], padding=\"max_length\", truncation=True, max_length=decoder_max_length)\n",
        "\n",
        "  batch[\"input_ids\"] = inputs.input_ids\n",
        "  batch[\"attention_mask\"] = inputs.attention_mask\n",
        "  batch[\"decoder_input_ids\"] = outputs.input_ids\n",
        "  batch[\"decoder_attention_mask\"] = outputs.attention_mask\n",
        "  batch[\"labels\"] = outputs.input_ids.copy()\n",
        "  # In 🤗Transformers loss of the padded labels can be ignore by setting the label to -100\n",
        "  batch[\"labels\"] = [[-100 if token == tokenizer.pad_token_id else token for token in labels] for labels in batch[\"labels\"]]\n",
        "  return batch\n",
        "  "
      ],
      "execution_count": null,
      "outputs": []
    },
    {
      "cell_type": "code",
      "metadata": {
        "colab": {
          "base_uri": "https://localhost:8080/",
          "height": 66,
          "referenced_widgets": [
            "98d57fa867f7402285042b107426ef98",
            "09d3932f78a848cfbbb45ad0879052bf",
            "01083ede37f04acf82b59f34221e9b9d",
            "732639a957cf4c0582cb1af09d6f7f51",
            "2659143f08334562bb1205982c7f5d2d",
            "dfe0dac287534fe89a2bebe0c93b3cf9",
            "1535b85ef5b4447f991c01c490b84f67",
            "ccd4d254d8994093b1c665870cfc075e"
          ]
        },
        "id": "ezCCwLmh76Je",
        "outputId": "a407ff75-847b-4520-81db-bea811c1f16c"
      },
      "source": [
        "'''\n",
        "pre-process huggingface datset\n",
        "'''\n",
        "batch_size=16\n",
        "\n",
        "train_data = train_hf_dataset.map(\n",
        "    process_data_to_model_inputs, \n",
        "    batched=True, \n",
        "    batch_size=batch_size, \n",
        "    remove_columns=[\"summary\", \"headline\"]\n",
        ")"
      ],
      "execution_count": null,
      "outputs": [
        {
          "output_type": "display_data",
          "data": {
            "application/vnd.jupyter.widget-view+json": {
              "model_id": "98d57fa867f7402285042b107426ef98",
              "version_major": 2,
              "version_minor": 0
            },
            "text/plain": [
              "HBox(children=(FloatProgress(value=0.0, max=500.0), HTML(value='')))"
            ]
          },
          "metadata": {
            "tags": []
          }
        },
        {
          "output_type": "stream",
          "text": [
            "\n"
          ],
          "name": "stdout"
        }
      ]
    },
    {
      "cell_type": "code",
      "metadata": {
        "colab": {
          "base_uri": "https://localhost:8080/"
        },
        "id": "t0K8kigY85Dn",
        "outputId": "b9266581-ace1-4584-8d49-0a4dcbb47c7b"
      },
      "source": [
        "train_data"
      ],
      "execution_count": null,
      "outputs": [
        {
          "output_type": "execute_result",
          "data": {
            "text/plain": [
              "Dataset({\n",
              "    features: ['attention_mask', 'decoder_attention_mask', 'decoder_input_ids', 'input_ids', 'labels'],\n",
              "    num_rows: 8000\n",
              "})"
            ]
          },
          "metadata": {
            "tags": []
          },
          "execution_count": 23
        }
      ]
    },
    {
      "cell_type": "code",
      "metadata": {
        "id": "aK5z_ek7-Zhv"
      },
      "source": [
        "train_data.set_format(\n",
        "    type=\"torch\", columns=[\"input_ids\", \"attention_mask\", \"decoder_input_ids\", \"decoder_attention_mask\", \"labels\"],\n",
        ")"
      ],
      "execution_count": null,
      "outputs": []
    },
    {
      "cell_type": "code",
      "metadata": {
        "colab": {
          "base_uri": "https://localhost:8080/"
        },
        "id": "gIhYsWez-hwA",
        "outputId": "8abe7bf1-9e54-4a8a-8b4d-3a1040b45b5e"
      },
      "source": [
        "train_data"
      ],
      "execution_count": null,
      "outputs": [
        {
          "output_type": "execute_result",
          "data": {
            "text/plain": [
              "Dataset({\n",
              "    features: ['attention_mask', 'decoder_attention_mask', 'decoder_input_ids', 'input_ids', 'labels'],\n",
              "    num_rows: 8000\n",
              "})"
            ]
          },
          "metadata": {
            "tags": []
          },
          "execution_count": 25
        }
      ]
    },
    {
      "cell_type": "code",
      "metadata": {
        "colab": {
          "base_uri": "https://localhost:8080/"
        },
        "id": "NktM8nV29DwP",
        "outputId": "46450d38-6bea-41e7-b4d2-167fb502b576"
      },
      "source": [
        "'''\n",
        "sample training record\n",
        "'''\n",
        "train_data[3]"
      ],
      "execution_count": null,
      "outputs": [
        {
          "output_type": "execute_result",
          "data": {
            "text/plain": [
              "{'attention_mask': tensor([1, 1, 1, 1, 1, 1, 1, 1, 1, 1, 1, 1, 1, 1, 1, 1, 1, 1, 1, 1, 1, 1, 1, 1,\n",
              "         1, 1, 1, 1, 1, 1, 1, 1, 1, 1, 1, 1, 1, 1, 1, 1, 1, 1, 1, 1, 1, 1, 1, 1,\n",
              "         1, 1, 1, 1, 1, 1, 1, 1, 1, 1, 1, 1, 1, 1, 1, 1, 1, 1, 1, 1, 1, 1, 1, 1,\n",
              "         1, 0, 0, 0, 0, 0, 0, 0, 0, 0, 0, 0, 0, 0, 0, 0, 0, 0, 0, 0, 0, 0, 0, 0,\n",
              "         0, 0, 0, 0, 0, 0, 0, 0, 0, 0, 0, 0, 0, 0, 0, 0, 0, 0, 0, 0, 0, 0, 0, 0,\n",
              "         0, 0, 0, 0, 0]),\n",
              " 'decoder_attention_mask': tensor([1, 1, 1, 1, 1, 1, 1, 1, 1, 1, 1, 1, 1, 0, 0, 0, 0, 0, 0, 0, 0, 0, 0, 0,\n",
              "         0, 0, 0, 0, 0, 0, 0, 0, 0, 0, 0, 0, 0, 0, 0, 0]),\n",
              " 'decoder_input_ids': tensor([  101,  6796, 20955,  1998,  3782, 18223,  2358, 20559,  2063,  2345,\n",
              "          4697,  8179,   102,     0,     0,     0,     0,     0,     0,     0,\n",
              "             0,     0,     0,     0,     0,     0,     0,     0,     0,     0,\n",
              "             0,     0,     0,     0,     0,     0,     0,     0,     0,     0]),\n",
              " 'input_ids': tensor([  101,  1005,  2023,  2003,  2149,  1005,  2732,  6796, 20955,  1998,\n",
              "          2010, 24211,  2564,  3782, 18223,  2358, 20559,  2063,  2031,  7283,\n",
              "          2345,  5084,  2037,  8179,  1012,  2429,  2000,  4311,  1010,  6796,\n",
              "          1998,  3782, 18223,  2018,  2772,  2006,  2037,  2345,  8179,  5491,\n",
              "          3041,  2023,  3204,  1012,  1996,  2280,  3232,  2018,  5079,  1996,\n",
              "         12226,  2006,  2255,  2654,  1010,  2418,  1010,  1998,  3975,  2039,\n",
              "          2048,  2086,  2101,  2044,  6796,  6406,  2005,  8179,  1999,  2281,\n",
              "         10476,  1012,   102,     0,     0,     0,     0,     0,     0,     0,\n",
              "             0,     0,     0,     0,     0,     0,     0,     0,     0,     0,\n",
              "             0,     0,     0,     0,     0,     0,     0,     0,     0,     0,\n",
              "             0,     0,     0,     0,     0,     0,     0,     0,     0,     0,\n",
              "             0,     0,     0,     0,     0,     0,     0,     0,     0,     0,\n",
              "             0,     0,     0,     0,     0]),\n",
              " 'labels': tensor([  101,  6796, 20955,  1998,  3782, 18223,  2358, 20559,  2063,  2345,\n",
              "          4697,  8179,   102,  -100,  -100,  -100,  -100,  -100,  -100,  -100,\n",
              "          -100,  -100,  -100,  -100,  -100,  -100,  -100,  -100,  -100,  -100,\n",
              "          -100,  -100,  -100,  -100,  -100,  -100,  -100,  -100,  -100,  -100])}"
            ]
          },
          "metadata": {
            "tags": []
          },
          "execution_count": 26
        }
      ]
    },
    {
      "cell_type": "code",
      "metadata": {
        "colab": {
          "base_uri": "https://localhost:8080/"
        },
        "id": "K4vhlQ5__lrm",
        "outputId": "947b16cf-ba59-41f1-a6af-b0e1d04810e6"
      },
      "source": [
        "'''\n",
        "load encoder decoder model using pretrained weights\n",
        "'''\n",
        "bert2bert = EncoderDecoderModel.from_encoder_decoder_pretrained(\"bert-base-uncased\", \"bert-base-uncased\")"
      ],
      "execution_count": null,
      "outputs": [
        {
          "output_type": "stream",
          "text": [
            "Some weights of the model checkpoint at bert-base-uncased were not used when initializing BertModel: ['cls.predictions.transform.dense.weight', 'cls.predictions.transform.dense.bias', 'cls.seq_relationship.weight', 'cls.predictions.bias', 'cls.seq_relationship.bias', 'cls.predictions.decoder.weight', 'cls.predictions.transform.LayerNorm.weight', 'cls.predictions.transform.LayerNorm.bias']\n",
            "- This IS expected if you are initializing BertModel from the checkpoint of a model trained on another task or with another architecture (e.g. initializing a BertForSequenceClassification model from a BertForPreTraining model).\n",
            "- This IS NOT expected if you are initializing BertModel from the checkpoint of a model that you expect to be exactly identical (initializing a BertForSequenceClassification model from a BertForSequenceClassification model).\n",
            "Some weights of the model checkpoint at bert-base-uncased were not used when initializing BertLMHeadModel: ['cls.seq_relationship.bias', 'cls.seq_relationship.weight']\n",
            "- This IS expected if you are initializing BertLMHeadModel from the checkpoint of a model trained on another task or with another architecture (e.g. initializing a BertForSequenceClassification model from a BertForPreTraining model).\n",
            "- This IS NOT expected if you are initializing BertLMHeadModel from the checkpoint of a model that you expect to be exactly identical (initializing a BertForSequenceClassification model from a BertForSequenceClassification model).\n",
            "Some weights of BertLMHeadModel were not initialized from the model checkpoint at bert-base-uncased and are newly initialized: ['bert.encoder.layer.5.crossattention.self.query.bias', 'bert.encoder.layer.9.crossattention.output.LayerNorm.weight', 'bert.encoder.layer.5.crossattention.self.key.bias', 'bert.encoder.layer.9.crossattention.self.value.weight', 'bert.encoder.layer.0.crossattention.output.LayerNorm.weight', 'bert.encoder.layer.11.crossattention.self.value.bias', 'bert.encoder.layer.10.crossattention.self.query.bias', 'bert.encoder.layer.8.crossattention.self.key.bias', 'bert.encoder.layer.9.crossattention.output.dense.bias', 'bert.encoder.layer.1.crossattention.output.LayerNorm.bias', 'bert.encoder.layer.0.crossattention.output.dense.weight', 'bert.encoder.layer.0.crossattention.self.key.bias', 'bert.encoder.layer.6.crossattention.output.dense.weight', 'bert.encoder.layer.2.crossattention.self.key.weight', 'bert.encoder.layer.11.crossattention.output.LayerNorm.weight', 'bert.encoder.layer.8.crossattention.output.LayerNorm.weight', 'bert.encoder.layer.6.crossattention.output.LayerNorm.weight', 'bert.encoder.layer.11.crossattention.output.LayerNorm.bias', 'bert.encoder.layer.2.crossattention.output.LayerNorm.weight', 'bert.encoder.layer.1.crossattention.self.key.bias', 'bert.encoder.layer.7.crossattention.output.dense.bias', 'bert.encoder.layer.4.crossattention.self.key.bias', 'bert.encoder.layer.0.crossattention.output.dense.bias', 'bert.encoder.layer.5.crossattention.output.LayerNorm.bias', 'bert.encoder.layer.6.crossattention.self.key.bias', 'bert.encoder.layer.9.crossattention.self.query.weight', 'bert.encoder.layer.3.crossattention.self.value.bias', 'bert.encoder.layer.2.crossattention.self.query.bias', 'bert.encoder.layer.2.crossattention.self.query.weight', 'bert.encoder.layer.1.crossattention.self.query.weight', 'bert.encoder.layer.10.crossattention.self.value.weight', 'bert.encoder.layer.2.crossattention.self.key.bias', 'bert.encoder.layer.9.crossattention.output.LayerNorm.bias', 'bert.encoder.layer.4.crossattention.self.query.weight', 'bert.encoder.layer.5.crossattention.output.dense.bias', 'bert.encoder.layer.0.crossattention.output.LayerNorm.bias', 'bert.encoder.layer.11.crossattention.self.query.weight', 'bert.encoder.layer.0.crossattention.self.key.weight', 'bert.encoder.layer.10.crossattention.self.value.bias', 'bert.encoder.layer.4.crossattention.output.LayerNorm.bias', 'bert.encoder.layer.5.crossattention.self.value.bias', 'bert.encoder.layer.11.crossattention.self.query.bias', 'bert.encoder.layer.4.crossattention.output.dense.weight', 'bert.encoder.layer.3.crossattention.self.key.weight', 'bert.encoder.layer.2.crossattention.self.value.bias', 'bert.encoder.layer.1.crossattention.output.LayerNorm.weight', 'bert.encoder.layer.6.crossattention.self.query.weight', 'bert.encoder.layer.8.crossattention.self.value.weight', 'bert.encoder.layer.4.crossattention.output.dense.bias', 'bert.encoder.layer.11.crossattention.output.dense.bias', 'bert.encoder.layer.1.crossattention.output.dense.bias', 'bert.encoder.layer.8.crossattention.output.LayerNorm.bias', 'bert.encoder.layer.5.crossattention.self.value.weight', 'bert.encoder.layer.0.crossattention.self.query.bias', 'bert.encoder.layer.5.crossattention.self.query.weight', 'bert.encoder.layer.6.crossattention.output.LayerNorm.bias', 'bert.encoder.layer.10.crossattention.output.dense.weight', 'bert.encoder.layer.7.crossattention.self.query.weight', 'bert.encoder.layer.4.crossattention.self.key.weight', 'bert.encoder.layer.6.crossattention.self.value.bias', 'bert.encoder.layer.10.crossattention.output.dense.bias', 'bert.encoder.layer.6.crossattention.self.key.weight', 'bert.encoder.layer.8.crossattention.output.dense.weight', 'bert.encoder.layer.7.crossattention.self.query.bias', 'bert.encoder.layer.0.crossattention.self.value.bias', 'bert.encoder.layer.7.crossattention.self.key.bias', 'bert.encoder.layer.10.crossattention.output.LayerNorm.bias', 'bert.encoder.layer.3.crossattention.output.LayerNorm.weight', 'bert.encoder.layer.11.crossattention.self.value.weight', 'bert.encoder.layer.8.crossattention.self.key.weight', 'bert.encoder.layer.9.crossattention.output.dense.weight', 'bert.encoder.layer.7.crossattention.output.dense.weight', 'bert.encoder.layer.6.crossattention.self.query.bias', 'bert.encoder.layer.9.crossattention.self.key.weight', 'bert.encoder.layer.3.crossattention.self.query.bias', 'bert.encoder.layer.6.crossattention.self.value.weight', 'bert.encoder.layer.8.crossattention.output.dense.bias', 'bert.encoder.layer.1.crossattention.self.value.bias', 'bert.encoder.layer.4.crossattention.self.query.bias', 'bert.encoder.layer.8.crossattention.self.value.bias', 'bert.encoder.layer.8.crossattention.self.query.bias', 'bert.encoder.layer.3.crossattention.output.dense.weight', 'bert.encoder.layer.0.crossattention.self.query.weight', 'bert.encoder.layer.7.crossattention.self.value.bias', 'bert.encoder.layer.1.crossattention.output.dense.weight', 'bert.encoder.layer.9.crossattention.self.key.bias', 'bert.encoder.layer.2.crossattention.self.value.weight', 'bert.encoder.layer.4.crossattention.output.LayerNorm.weight', 'bert.encoder.layer.5.crossattention.output.dense.weight', 'bert.encoder.layer.3.crossattention.output.dense.bias', 'bert.encoder.layer.10.crossattention.output.LayerNorm.weight', 'bert.encoder.layer.9.crossattention.self.query.bias', 'bert.encoder.layer.11.crossattention.output.dense.weight', 'bert.encoder.layer.0.crossattention.self.value.weight', 'bert.encoder.layer.7.crossattention.output.LayerNorm.bias', 'bert.encoder.layer.5.crossattention.self.key.weight', 'bert.encoder.layer.5.crossattention.output.LayerNorm.weight', 'bert.encoder.layer.3.crossattention.self.key.bias', 'bert.encoder.layer.3.crossattention.output.LayerNorm.bias', 'bert.encoder.layer.6.crossattention.output.dense.bias', 'bert.encoder.layer.4.crossattention.self.value.weight', 'bert.encoder.layer.10.crossattention.self.key.bias', 'bert.encoder.layer.7.crossattention.self.value.weight', 'bert.encoder.layer.2.crossattention.output.LayerNorm.bias', 'bert.encoder.layer.9.crossattention.self.value.bias', 'bert.encoder.layer.2.crossattention.output.dense.bias', 'bert.encoder.layer.1.crossattention.self.key.weight', 'bert.encoder.layer.7.crossattention.output.LayerNorm.weight', 'bert.encoder.layer.2.crossattention.output.dense.weight', 'bert.encoder.layer.8.crossattention.self.query.weight', 'bert.encoder.layer.7.crossattention.self.key.weight', 'bert.encoder.layer.3.crossattention.self.query.weight', 'bert.encoder.layer.3.crossattention.self.value.weight', 'bert.encoder.layer.10.crossattention.self.key.weight', 'bert.encoder.layer.4.crossattention.self.value.bias', 'bert.encoder.layer.11.crossattention.self.key.bias', 'bert.encoder.layer.1.crossattention.self.value.weight', 'bert.encoder.layer.11.crossattention.self.key.weight', 'bert.encoder.layer.1.crossattention.self.query.bias', 'bert.encoder.layer.10.crossattention.self.query.weight']\n",
            "You should probably TRAIN this model on a down-stream task to be able to use it for predictions and inference.\n"
          ],
          "name": "stderr"
        }
      ]
    },
    {
      "cell_type": "code",
      "metadata": {
        "colab": {
          "base_uri": "https://localhost:8080/"
        },
        "id": "N4dlnTloA-vH",
        "outputId": "950a64dd-ad23-467d-900f-50cd0ad2686e"
      },
      "source": [
        "'''\n",
        "set configurations\n",
        "'''\n",
        "tokenizer.bos_token = tokenizer.cls_token\n",
        "tokenizer.eos_token = tokenizer.sep_token\n",
        "\n",
        "bert2bert.config.decoder_start_token_id = tokenizer.bos_token_id\n",
        "bert2bert.config.eos_token_id = tokenizer.eos_token_id\n",
        "bert2bert.config.pad_token_id = tokenizer.pad_token_id\n",
        "\n",
        "bert2bert.config.vocab_size = bert2bert.config.decoder.vocab_size\n",
        "\n",
        "print('BOS token is: ',bert2bert.config.decoder_start_token_id)\n",
        "print('PAD token is: ',bert2bert.config.pad_token_id)\n",
        "print('EOS token is: ',bert2bert.config.eos_token_id)\n",
        "print('vocab size is: ',bert2bert.config.vocab_size)"
      ],
      "execution_count": null,
      "outputs": [
        {
          "output_type": "stream",
          "text": [
            "BOS token is:  101\n",
            "PAD token is:  0\n",
            "EOS token is:  102\n",
            "vocab size is:  30522\n"
          ],
          "name": "stdout"
        }
      ]
    },
    {
      "cell_type": "code",
      "metadata": {
        "id": "1q7cg5SgAm-b"
      },
      "source": [
        "'''\n",
        "parameters for beam search---By defualt max size of generated sequence will be 20\n",
        "'''\n",
        "bert2bert.config.no_repeat_ngram_size = 3\n",
        "bert2bert.config.early_stopping = True\n",
        "bert2bert.config.length_penalty = 2.0\n",
        "bert2bert.config.num_beams = 4\n",
        "'''"
      ],
      "execution_count": null,
      "outputs": []
    },
    {
      "cell_type": "code",
      "metadata": {
        "id": "m_NX93PdB-_C"
      },
      "source": [
        "'''\n",
        "load rouge metric for validation\n",
        "'''\n",
        "rouge = datasets.load_metric(\"rouge\")\n",
        "\n",
        "def compute_metrics(pred):\n",
        "    labels_ids = pred.label_ids\n",
        "    pred_ids = pred.predictions\n",
        "\n",
        "    # all unnecessary tokens are removed\n",
        "    pred_str = tokenizer.batch_decode(pred_ids, skip_special_tokens=True)\n",
        "    labels_ids[labels_ids == -100] = tokenizer.pad_token_id\n",
        "    label_str = tokenizer.batch_decode(labels_ids, skip_special_tokens=True)\n",
        "\n",
        "    rouge_output = rouge.compute(predictions=pred_str, references=label_str, rouge_types=[\"rouge2\"])[\"rouge2\"].mid\n",
        "\n",
        "    return {\n",
        "        \"rouge2_precision\": round(rouge_output.precision, 4),\n",
        "        \"rouge2_recall\": round(rouge_output.recall, 4),\n",
        "        \"rouge2_fmeasure\": round(rouge_output.fmeasure, 4),\n",
        "    }"
      ],
      "execution_count": null,
      "outputs": []
    },
    {
      "cell_type": "code",
      "metadata": {
        "id": "60xiOlY5C2zF"
      },
      "source": [
        "'''\n",
        "set training arguments\n",
        "'''\n",
        "\n",
        "training_args = Seq2SeqTrainingArguments(\n",
        "    output_dir=\"./\",\n",
        "    evaluation_strategy=\"steps\",\n",
        "    per_device_train_batch_size=batch_size,\n",
        "    per_device_eval_batch_size=batch_size,\n",
        "    predict_with_generate=True,\n",
        "    logging_steps=1000,  \n",
        "    save_steps=500,  \n",
        "    eval_steps=8000, \n",
        "    warmup_steps=2000,  \n",
        "    #max_steps=16,\n",
        "    num_train_epochs=2,\n",
        "    overwrite_output_dir=True,\n",
        "    save_total_limit=3,\n",
        "    fp16=False,#True \n",
        ")\n",
        "\n",
        "'''\n",
        "instantiate trainer\n",
        "'''\n",
        "trainer = Seq2SeqTrainer(\n",
        "    model=bert2bert,\n",
        "    tokenizer=tokenizer,\n",
        "    args=training_args,\n",
        "    compute_metrics=compute_metrics,\n",
        "    train_dataset=train_data,\n",
        "    eval_dataset=train_data,\n",
        ")\n"
      ],
      "execution_count": null,
      "outputs": []
    },
    {
      "cell_type": "code",
      "metadata": {
        "colab": {
          "base_uri": "https://localhost:8080/",
          "height": 170
        },
        "id": "Btfwc3LtQzGP",
        "outputId": "b340ace8-42f7-4194-8e3f-07a8a882ea2d"
      },
      "source": [
        "'''\n",
        "train the bert2bert model\n",
        "'''\n",
        "trainer.train()"
      ],
      "execution_count": null,
      "outputs": [
        {
          "output_type": "display_data",
          "data": {
            "text/html": [
              "\n",
              "    <div>\n",
              "      \n",
              "      <progress value='885' max='1000' style='width:300px; height:20px; vertical-align: middle;'></progress>\n",
              "      [ 885/1000 8:41:36 < 1:07:55, 0.03 it/s, Epoch 1.77/2]\n",
              "    </div>\n",
              "    <table border=\"1\" class=\"dataframe\">\n",
              "  <thead>\n",
              "    <tr style=\"text-align: left;\">\n",
              "      <th>Step</th>\n",
              "      <th>Training Loss</th>\n",
              "      <th>Validation Loss</th>\n",
              "    </tr>\n",
              "  </thead>\n",
              "  <tbody>\n",
              "  </tbody>\n",
              "</table><p>"
            ],
            "text/plain": [
              "<IPython.core.display.HTML object>"
            ]
          },
          "metadata": {
            "tags": []
          }
        },
        {
          "output_type": "display_data",
          "data": {
            "text/html": [
              "\n",
              "    <div>\n",
              "      \n",
              "      <progress value='1000' max='1000' style='width:300px; height:20px; vertical-align: middle;'></progress>\n",
              "      [1000/1000 9:50:45, Epoch 2/2]\n",
              "    </div>\n",
              "    <table border=\"1\" class=\"dataframe\">\n",
              "  <thead>\n",
              "    <tr style=\"text-align: left;\">\n",
              "      <th>Step</th>\n",
              "      <th>Training Loss</th>\n",
              "      <th>Validation Loss</th>\n",
              "    </tr>\n",
              "  </thead>\n",
              "  <tbody>\n",
              "  </tbody>\n",
              "</table><p>"
            ],
            "text/plain": [
              "<IPython.core.display.HTML object>"
            ]
          },
          "metadata": {
            "tags": []
          }
        },
        {
          "output_type": "execute_result",
          "data": {
            "text/plain": [
              "TrainOutput(global_step=1000, training_loss=6.37593603515625, metrics={'train_runtime': 35480.192, 'train_samples_per_second': 0.451, 'train_steps_per_second': 0.028, 'total_flos': 3918236034240000.0, 'train_loss': 6.37593603515625, 'epoch': 2.0})"
            ]
          },
          "metadata": {
            "tags": []
          },
          "execution_count": 32
        }
      ]
    },
    {
      "cell_type": "code",
      "metadata": {
        "id": "0eN1u8Jeb3up"
      },
      "source": [
        "'''\n",
        "save the trained model to drive\n",
        "'''\n",
        "bert2bert.save_pretrained(\"/content/gdrive/My Drive/Capstone_Project/saved_trained_model/headline_generator_encoder_decoder_model/19june/bert2bert_based_mdel\")"
      ],
      "execution_count": null,
      "outputs": []
    },
    {
      "cell_type": "code",
      "metadata": {
        "id": "V7yNWQDGcn_U"
      },
      "source": [
        "'''\n",
        "load the model from drive\n",
        "'''\n",
        "saved_model_path=\"/content/gdrive/My Drive/Capstone_Project/saved_trained_model/encoder_decoder_without_pretrained_embedding/19june/bert2bert_based_mdel\"\n",
        "bert2bert_model = EncoderDecoderModel.from_pretrained(saved_model_path)"
      ],
      "execution_count": null,
      "outputs": []
    },
    {
      "cell_type": "code",
      "metadata": {
        "id": "g4j5FGGWHG5I"
      },
      "source": [
        "'''\n",
        "generate/infer headline from news-summary\n",
        "'''\n",
        "batch_size = 4\n",
        "\n",
        "def generate_headline(batch):\n",
        "    # Tokenizer will automatically set [BOS] <text> [EOS]\n",
        "    # cut off at BERT max length 512\n",
        "    inputs = tokenizer(batch[\"summary\"], padding=\"max_length\", truncation=True, max_length=encoder_max_length, return_tensors=\"pt\")\n",
        "    input_ids = inputs.input_ids#.to(\"cuda\")\n",
        "    attention_mask = inputs.attention_mask #.to(\"cuda\")\n",
        "\n",
        "    outputs = bert2bert_model.generate(input_ids, attention_mask=attention_mask)\n",
        "\n",
        "    # all special tokens including will be removed\n",
        "    output_str = tokenizer.batch_decode(outputs, skip_special_tokens=True)\n",
        "\n",
        "    batch[\"pred\"] = output_str\n",
        "\n",
        "    return batch\n",
        "\n"
      ],
      "execution_count": null,
      "outputs": []
    },
    {
      "cell_type": "code",
      "metadata": {
        "colab": {
          "base_uri": "https://localhost:8080/",
          "height": 83,
          "referenced_widgets": [
            "daf92a11f31f47bab72db7ac24fcb497",
            "23935ecce8d34eb3a054da9319b3f2fe",
            "523f33e319b949a18a3890822a1a1f1f",
            "4149ba114cf34e579359cf214657e6a9",
            "49331b2f9885459e8085ea8d9de2a9e6",
            "e5719de361104c2784b65eb1d7a9e0c9",
            "aa758efc63894d45a2081f40f5d514b9",
            "2470fcf7a8d44c18b17f6ebd39177e5b"
          ]
        },
        "id": "up0KE_1_-Zek",
        "outputId": "2c628562-9273-4db5-8644-561266fcfb19"
      },
      "source": [
        "'''\n",
        "generating News Headline for News stories used in training \n",
        "'''\n",
        "evaluation_dataset = train_hf_dataset.select([record_index for record_index in range(12)])\n",
        "len(evaluation_dataset)\n",
        "results = evaluation_dataset.map(generate_headline, batched=True, batch_size=batch_size)#, remove_columns=[\"article\"]\n",
        "\n",
        "pred_str = results[\"pred\"]\n",
        "label_str = results[\"headline\"]\n",
        "\n",
        "rouge_output = rouge.compute(predictions=pred_str, references=label_str, rouge_types=[\"rouge2\"])[\"rouge2\"].mid\n",
        "\n",
        "print(rouge_output)"
      ],
      "execution_count": null,
      "outputs": [
        {
          "output_type": "display_data",
          "data": {
            "application/vnd.jupyter.widget-view+json": {
              "model_id": "daf92a11f31f47bab72db7ac24fcb497",
              "version_minor": 0,
              "version_major": 2
            },
            "text/plain": [
              "HBox(children=(FloatProgress(value=0.0, max=3.0), HTML(value='')))"
            ]
          },
          "metadata": {
            "tags": []
          }
        },
        {
          "output_type": "stream",
          "text": [
            "\n",
            "Score(precision=0.03571428571428571, recall=0.027574277574277575, fmeasure=0.030555555555555558)\n"
          ],
          "name": "stdout"
        }
      ]
    },
    {
      "cell_type": "code",
      "metadata": {
        "colab": {
          "base_uri": "https://localhost:8080/"
        },
        "id": "UMgW0A4ehaj9",
        "outputId": "91f14e88-b5c6-4758-d0d5-f537c3c2bffa"
      },
      "source": [
        "results[0]"
      ],
      "execution_count": null,
      "outputs": [
        {
          "output_type": "execute_result",
          "data": {
            "text/plain": [
              "{'headline': 'Surat Court Acquits 122 Persons Accused of Being SIMI Members',\n",
              " 'pred': 'delhi court grants bail to 8 accused of covid - 19 cases',\n",
              " 'summary': \"A court in Gujarat's Surat on Saturday acquitted 122 persons arrested under The Unlawful Activities (Prevention) Act for participating in a meeting organised here in December 2001 as members of the banned outfit Students Islamic Movement of India (SIMI). A total of 127 people were arrested in this case, of which five had reportedly died while the trial was pending.\"}"
            ]
          },
          "metadata": {
            "tags": []
          },
          "execution_count": 69
        }
      ]
    },
    {
      "cell_type": "code",
      "metadata": {
        "colab": {
          "base_uri": "https://localhost:8080/",
          "height": 83,
          "referenced_widgets": [
            "b838440d0fa3460e8dc1240009845fd3",
            "887b938d37a24a4b873a0a7f76f3c090",
            "24e5732942c744e8b57079f80c776d57",
            "3ed344e4c6ae4be2a3323f8da47ff6b0",
            "a16452cd134d494d92f83ef2f950e3ac",
            "3245e4971f924347822941fd73a687af",
            "f2daa35edae54336a746a1236c1ab7ec",
            "d316bebabce748d4af2c201464e5ca28"
          ]
        },
        "id": "3CE7pLF7mrPi",
        "outputId": "86e6bae0-c31f-4773-f263-58f9a46356f9"
      },
      "source": [
        "'''\n",
        "generating News Headline for test News stories (these news-stories didn't got used in training) \n",
        "'''\n",
        "test_evaluation_dataset = test_hf_dataset.select([record_index for record_index in range(12)])\n",
        "len(test_evaluation_dataset)\n",
        "test_results = test_evaluation_dataset.map(generate_headline, batched=True, batch_size=batch_size) \n",
        "\n",
        "test_pred_str = test_results[\"pred\"]\n",
        "test_label_str = test_results[\"headline\"]\n",
        "\n",
        "rouge_output = rouge.compute(predictions=test_pred_str, references=test_label_str, rouge_types=[\"rouge2\"])[\"rouge2\"].mid\n",
        "\n",
        "print(rouge_output)"
      ],
      "execution_count": null,
      "outputs": [
        {
          "output_type": "display_data",
          "data": {
            "application/vnd.jupyter.widget-view+json": {
              "model_id": "b838440d0fa3460e8dc1240009845fd3",
              "version_minor": 0,
              "version_major": 2
            },
            "text/plain": [
              "HBox(children=(FloatProgress(value=0.0, max=3.0), HTML(value='')))"
            ]
          },
          "metadata": {
            "tags": []
          }
        },
        {
          "output_type": "stream",
          "text": [
            "\n",
            "Score(precision=0.04924242424242425, recall=0.03706293706293706, fmeasure=0.041967291967291966)\n"
          ],
          "name": "stdout"
        }
      ]
    },
    {
      "cell_type": "code",
      "metadata": {
        "colab": {
          "base_uri": "https://localhost:8080/"
        },
        "id": "0IhJiZVQnDEi",
        "outputId": "ae3ed274-5234-46d3-b8a8-889998c70bdb"
      },
      "source": [
        "test_results[0]"
      ],
      "execution_count": null,
      "outputs": [
        {
          "output_type": "execute_result",
          "data": {
            "text/plain": [
              "{'headline': \"Hong Kong leader, top officials get China's Sinovac vaccine\",\n",
              " 'pred': \"india's first covid - 19 vaccine receives covaxin\",\n",
              " 'summary': \"Hong Kong's leader Carrie Lam and other government officials received China's Sinovac COVID-19 vaccine on Monday. Sinovac is the first COVID-19 vaccine to be introduced in Hong Kong, which will soon be followed by Pfizer/BioNTech vaccine before February-end, reported Reuters. The city is set to begin its vaccine program on Friday with medical workers, the elderly, caretakers being the priority.\"}"
            ]
          },
          "metadata": {
            "tags": []
          },
          "execution_count": 64
        }
      ]
    },
    {
      "cell_type": "code",
      "metadata": {
        "id": "nsIbefmeTkYx",
        "colab": {
          "base_uri": "https://localhost:8080/"
        },
        "outputId": "86e542ad-70fc-4fb6-dc9d-e1540abe5528"
      },
      "source": [
        "for index in range(12):\n",
        "  print('*********************************')\n",
        "  print('actual headline: ',test_results[index]['summary'])\n",
        "  print('actual headline: ',test_results[index]['headline'])\n",
        "  print('predicted headline: ',test_results[index]['pred'])"
      ],
      "execution_count": null,
      "outputs": [
        {
          "output_type": "stream",
          "text": [
            "*********************************\n",
            "actual headline:  Hong Kong's leader Carrie Lam and other government officials received China's Sinovac COVID-19 vaccine on Monday. Sinovac is the first COVID-19 vaccine to be introduced in Hong Kong, which will soon be followed by Pfizer/BioNTech vaccine before February-end, reported Reuters. The city is set to begin its vaccine program on Friday with medical workers, the elderly, caretakers being the priority.\n",
            "actual headline:  Hong Kong leader, top officials get China's Sinovac vaccine\n",
            "predicted headline:  india's first covid - 19 vaccine receives covaxin\n",
            "*********************************\n",
            "actual headline:  Divya Dureja is a Delhi-based psychologist who has been accused by a 28-year-old French woman of sexually harassing her in a Goa hotel room. The 27-year-old is known to be an LGBTQI+ activist, slam poet and TEDx speaker. According to her Facebook profile, she's also the co-founder of Performers' Consortium, a platform for nourishing artists and democratising art narratives.\n",
            "actual headline:  LGBT activist Divya Dureja accused of sex assault during 'Shamanic ritual'\n",
            "predicted headline:  mumbai : woman accused of rape, accused of sexual misconduct\n",
            "*********************************\n",
            "actual headline:  Asian Paints new TVC for exterior paint with lamination guard technology, Ultima Protek, features Ranbir Kapoor in a double role playing a matchmaker role. Asian Paints mentions that the campaign focuses on how a house laminated with Ultima Protek stays protected from Baarish, Dhoop & Dhool. Ultima Protek exterior paint comes with a 10-year* warranty.\n",
            "actual headline:  Asian Paints Brings you Lamination Wala Ultima Protek in its Latest TVC\n",
            "predicted headline:  kavita banerjee's house to be built in mumbai : the tribune\n",
            "*********************************\n",
            "actual headline:  RBI Deputy Governor Michael Patra has said that the recent record highs scaled by the equity markets could be a result of \"irrational exuberance\". Patra, as per the minutes of the MPC, further said, \"It is difficult to tell in an environment of exceptionally low interest rates all around, large corporate profits but still no capex to write home about.\"\n",
            "actual headline:  Equities showing irrational exuberance, says RBI’s Dy Guv Michael Patra\n",
            "predicted headline:  pm modi's'antiparity'', says cm cm cm\n",
            "*********************************\n",
            "actual headline:  The second phase of COVID-19 vaccination drive will be conducted at 10 locations across Madhya Pradesh's Indore, district COVID-19 Nodal Officer Dr Amit Malakar said. \"Of [these 10], 3 are government hospitals/colleges,\" he added. Nationwide vaccination drive for those above 60 and above 45 with comorbidities has begun today. PM Narendra Modi took first dose of vaccine at AIIMS Delhi.\n",
            "actual headline:  Covid vaccination in Indore: 10 lakh doses to be administered in next 4 months\n",
            "predicted headline:  covid - 19 vaccination centre to vaccinate cova - 19 cases\n",
            "*********************************\n",
            "actual headline:  US President Joe Biden has nominated Indian-American lawyer Kiran Ahuja to head the Office of Personnel Management. The 49-year-old served as Chief of Staff to Director of US Office of Personnel Management from 2015 to 2017. She has more than two decades of public service experience. Ahuja currently serves as nonprofit CEO of Philanthropy Northwest, a network of philanthropic institutions.\n",
            "actual headline:  Biden Nominates Kiran Ahuja for OPM Director\n",
            "predicted headline:  indian - american ex - - indian - indian ex - president nirmala tandra ’ s\n",
            "*********************************\n",
            "actual headline:  A sub-inspector in Rajasthan was suspended and disciplinary measures were taken against him after a video of him sacrificing a goat was criticised on social media, officials said. As per the police report, the incident occurred on February 19. The SHO was on leave to attend the tonsure ceremony of his grandson.\n",
            "actual headline:  Sub-inspector suspended for sacrificing goat at family function in Rajasthan''s Baran\n",
            "predicted headline:  kapil sharma dies of heart attack in delhi's home\n",
            "*********************************\n",
            "actual headline:  Kerala CM Pinarayi Vijayan condoled the death of Padma Shri awardee Malayali poet Vishnu Narayanan Namboothiri on Thursday. The 81-year-old poet breathed his last at his residence in Kerala's Thycaud due to old-age ailments. \"The demise of Vishnu Narayan Namboothiri is a great loss to the Malayalam language, Kerala's culture and progressive values,\" the CM said.\n",
            "actual headline:  Malayalam poet Vishnunarayanan Namboothiri passes away\n",
            "predicted headline:  tamil nadu's puducherry dies of heart attack in tamil nadu\n",
            "*********************************\n",
            "actual headline:  Pune Mayor Murlidhar Mohol has said the restrictions imposed earlier are extended till March 14 and no public movement except essential services is allowed between 11 pm to 6 am. He added that it was decided to extend the closure of schools, colleges and coaching classes till March 14 as there was no slowdown in the spread of COVID-19 infection.\n",
            "actual headline:  COVID-19: Pune extends night curfew, schools-colleges to remain shut till March 14\n",
            "predicted headline:  covid - 19 : maharashtra's schools closed till march 31\n",
            "*********************************\n",
            "actual headline:  The Mayor of the French city of Nice, Christian Estrosi, has urged visitors to stay away from the tourist hotspot as the city battles a spike in COVID-19 infections. He added that new measures that \"go beyond the nationwide 6 pm curfew\" were needed to tackle the surge in cases. \"A weekend lockdown would make sense,\" Estrosi said.\n",
            "actual headline:  French City of Nice Asks Tourists to Stay Away amid COVID Surge\n",
            "predicted headline:  covid - 19, 000 people die in africa\n",
            "*********************************\n",
            "actual headline:  Bengali actress Srabanti Chatterjee joined the Bharatiya Janata Party (BJP) on Monday, ahead of Assembly elections in the state. She joined the saffron party in the presence of BJP national general secretary Kailash Vijayvargiya and the party's state president, Dilip Ghosh. Bengali actor Yash Dasgupta had joined the party last month.\n",
            "actual headline:  Bengali actor Srabanti Chatterjee joins BJP ahead of Assembly elections 2021\n",
            "predicted headline:  mamata banerjee joins bjp's bengal assembly assembly polls\n",
            "*********************************\n",
            "actual headline:  An iPhone hacking team has released a new jailbreak tool that it claims can be used to jailbreak any device running iOS 11.0 through iOS 14.3 using a kernel vulnerability. The group said it used its \"own exploit\" for CVE-2021-1782, a vulnerability that Apple said was one of the three flaws that \"may have been actively exploited\" by hackers.\n",
            "actual headline:  New 'unc0ver' Tool Can Jailbreak All iPhone Models Running iOS 11.0\n",
            "predicted headline:  apple ios ios releases ios 11 release for ios 11, says apple\n"
          ],
          "name": "stdout"
        }
      ]
    },
    {
      "cell_type": "code",
      "metadata": {
        "colab": {
          "base_uri": "https://localhost:8080/",
          "height": 83,
          "referenced_widgets": [
            "43bcff77fdf441f8bafdd05f7ad91080",
            "f0c0a919f9914718b252c56e193f3f04",
            "f6552187ff914b63b10c106945b36850",
            "cd0af2eefd3a4ef68aec415add1c5e96",
            "77c1d9983a074730ba68161f893e05ec",
            "cc3beaf8121c4412bfbc1f6f2f4806a4",
            "4b0a7823248b4018afad9cf5cf41c571",
            "897f709a807f4c3fa928f0d84639234d"
          ]
        },
        "id": "cIm67sG9noFq",
        "outputId": "9760835f-bd29-4aed-e088-dccfec936810"
      },
      "source": [
        "'''\n",
        "calculate rouge2 score(precision, recall, fmeasure) for 1806 test samples\n",
        "'''\n",
        "len(test_hf_dataset)#1806\n",
        "test_results = test_hf_dataset.map(generate_headline, batched=True, batch_size=batch_size) \n",
        "\n",
        "test_pred_str = test_results[\"pred\"]\n",
        "test_label_str = test_results[\"headline\"]\n",
        "\n",
        "rouge_output = rouge.compute(predictions=test_pred_str, references=test_label_str, rouge_types=[\"rouge2\"])[\"rouge2\"].mid\n",
        "\n",
        "print(rouge_output)"
      ],
      "execution_count": null,
      "outputs": [
        {
          "output_type": "display_data",
          "data": {
            "application/vnd.jupyter.widget-view+json": {
              "model_id": "43bcff77fdf441f8bafdd05f7ad91080",
              "version_major": 2,
              "version_minor": 0
            },
            "text/plain": [
              "HBox(children=(FloatProgress(value=0.0, max=452.0), HTML(value='')))"
            ]
          },
          "metadata": {
            "tags": []
          }
        },
        {
          "output_type": "stream",
          "text": [
            "\n",
            "Score(precision=0.044589730486618434, recall=0.03505699236290909, fmeasure=0.03839466703205903)\n"
          ],
          "name": "stdout"
        }
      ]
    },
    {
      "cell_type": "code",
      "metadata": {
        "colab": {
          "base_uri": "https://localhost:8080/"
        },
        "id": "yNxiXzLwrSco",
        "outputId": "ffb74bd7-e64d-4e34-dc3c-feb0505d09dc"
      },
      "source": [
        "'''\n",
        "calculate bleu score for 1806 test samples\n",
        "'''\n",
        "sacrebleu = datasets.load_metric(\"sacrebleu\")\n",
        "#print(sacrebleu)\n",
        "#Metric(name: \"sacrebleu\", features: {'predictions': Value(dtype='string', id='sequence'), 'references': Sequence(feature=Value(dtype='string', id='sequence'), length=-1, id='references')}, usage: \"\"\"\n",
        "#Produces BLEU scores along with its sufficient statistics from a source against one or more references.\n",
        "\n",
        "test_label_as_list_of_list=[[label_str]for label_str in test_label_str]\n",
        "sacrebleu_output = sacrebleu.compute(predictions=test_pred_str, references=test_label_as_list_of_list)\n",
        "print('sacrebleu_output: ',sacrebleu_output)\n",
        "print('bleu score: ',sacrebleu_output['score'])"
      ],
      "execution_count": null,
      "outputs": [
        {
          "output_type": "stream",
          "text": [
            "sacrebleu_output:  {'score': 0.7401589357148857, 'counts': [1896, 243, 55, 16], 'totals': [18495, 16689, 14883, 13077], 'precisions': [10.251419302514194, 1.456048894481395, 0.36954915003695493, 0.12235222145752084], 'bp': 0.8166086593300528, 'sys_len': 18495, 'ref_len': 22242}\n",
            "bleu score:  0.7401589357148857\n"
          ],
          "name": "stdout"
        }
      ]
    },
    {
      "cell_type": "code",
      "metadata": {
        "id": "Wf5_6h8A-9LI"
      },
      "source": [
        "'''\n",
        "generate multiple headline for given news story using beam search\n",
        "'''\n",
        "num_beams=5\n",
        "def generate_headline_beam(batch):\n",
        "    inputs = tokenizer(batch[\"summary\"], padding=\"max_length\", truncation=True, max_length=encoder_max_length, return_tensors=\"pt\")# Tokenizer will automatically set [BOS] <text> [EOS]\n",
        "    input_ids = inputs.input_ids#.to(\"cuda\")\n",
        "    attention_mask = inputs.attention_mask #.to(\"cuda\")\n",
        "    beam_output = bert2bert_model.generate(input_ids, attention_mask=attention_mask, num_beams=num_beams, num_return_sequences=5, early_stopping=True)\n",
        "    # all special tokens including will be removed\n",
        "    output_str = tokenizer.batch_decode(beam_output, skip_special_tokens=True)\n",
        "    no_of_sample_in_batch=len(batch[\"summary\"])#3\n",
        "    op_str_beam=[]\n",
        "    for index in range(no_of_sample_in_batch):\n",
        "      #print((index*num_beams,(index+1)*num_beams))\n",
        "      op_str_beam.append(output_str[index*num_beams:(index+1)*num_beams])\n",
        "    batch[\"pred\"] = op_str_beam\n",
        "    return batch"
      ],
      "execution_count": null,
      "outputs": []
    },
    {
      "cell_type": "code",
      "metadata": {
        "colab": {
          "base_uri": "https://localhost:8080/",
          "height": 290,
          "referenced_widgets": [
            "d3476bec6c6e4f90a2e7917a12fa1ecf",
            "33e27986da1542ffb408aa0038d12eb9",
            "dce0cf9511484bc6949e3137d0f6d07e",
            "0eea09fa95cf4bc3bb4bea4af094a60e",
            "baae573c1efa4de7a770457789d64268",
            "93bb75098cea46c28c63ea4e7238fa8c",
            "8a5a48e454854f7997bf64d02a047616",
            "4ff1b09f2f9145d7a497b49453f9041f"
          ]
        },
        "id": "qxU--oa--2-y",
        "outputId": "d8c75d2c-1b04-48d5-e4ec-35dba3f73949"
      },
      "source": [
        "'''\n",
        "generating multiple News Headline for test News stories using beam search\n",
        "'''\n",
        "test_evaluation_dataset = test_hf_dataset.select([record_index for record_index in range(9,12)])\n",
        "len(test_evaluation_dataset)\n",
        "test_results_beam = test_evaluation_dataset.map(generate_headline_beam, batched=True, batch_size=batch_size) \n",
        "for index in range(3):\n",
        "  print('*********************************')\n",
        "  print('actual headline: ',test_results_beam[index]['summary'])\n",
        "  print('actual headline: ',test_results_beam[index]['headline'])\n",
        "  print('predicted headline: ',test_results_beam[index]['pred'])\n"
      ],
      "execution_count": null,
      "outputs": [
        {
          "output_type": "display_data",
          "data": {
            "application/vnd.jupyter.widget-view+json": {
              "model_id": "d3476bec6c6e4f90a2e7917a12fa1ecf",
              "version_minor": 0,
              "version_major": 2
            },
            "text/plain": [
              "HBox(children=(FloatProgress(value=0.0, max=1.0), HTML(value='')))"
            ]
          },
          "metadata": {
            "tags": []
          }
        },
        {
          "output_type": "stream",
          "text": [
            "\n",
            "*********************************\n",
            "actual headline:  The Mayor of the French city of Nice, Christian Estrosi, has urged visitors to stay away from the tourist hotspot as the city battles a spike in COVID-19 infections. He added that new measures that \"go beyond the nationwide 6 pm curfew\" were needed to tackle the surge in cases. \"A weekend lockdown would make sense,\" Estrosi said.\n",
            "actual headline:  French City of Nice Asks Tourists to Stay Away amid COVID Surge\n",
            "predicted headline:  ['covid - 19 toll toll tolls spike to 1, 000 people', 'covid - 19 toll toll tolls spike to 1, 000', 'covid - 19 toll toll tolls spike to over 1, 000', 'covid - 19 toll toll tolls spike to 20 %', 'covid - 19 toll toll tolls spike in africa']\n",
            "*********************************\n",
            "actual headline:  Bengali actress Srabanti Chatterjee joined the Bharatiya Janata Party (BJP) on Monday, ahead of Assembly elections in the state. She joined the saffron party in the presence of BJP national general secretary Kailash Vijayvargiya and the party's state president, Dilip Ghosh. Bengali actor Yash Dasgupta had joined the party last month.\n",
            "actual headline:  Bengali actor Srabanti Chatterjee joins BJP ahead of Assembly elections 2021\n",
            "predicted headline:  [\"mamata banerjee joins bjp's bengal assembly assembly polls\", \"mamata banerjee joins bjp's assam assembly assembly polls\", \"mamata banerjee joins bjp's bengal assembly polls\", \"mamata banerjee joins bjp's bjp - led party\", \"mamata banerjee joins bjp's bengal assembly assembly election\"]\n",
            "*********************************\n",
            "actual headline:  An iPhone hacking team has released a new jailbreak tool that it claims can be used to jailbreak any device running iOS 11.0 through iOS 14.3 using a kernel vulnerability. The group said it used its \"own exploit\" for CVE-2021-1782, a vulnerability that Apple said was one of the three flaws that \"may have been actively exploited\" by hackers.\n",
            "actual headline:  New 'unc0ver' Tool Can Jailbreak All iPhone Models Running iOS 11.0\n",
            "predicted headline:  ['apple ios ios releases ios 11 release for ios 11 11. 0', 'apple ios ios releases ios 11 release for ios 11 11 release', 'apple ios ios releases ios 11 release for ios 11 11', 'apple ios ios releases ios 11 release for ios 11', 'apple ios ios releases ios 10 release for ios 11']\n"
          ],
          "name": "stdout"
        }
      ]
    },
    {
      "cell_type": "code",
      "metadata": {
        "id": "D4IuptGcPOE1"
      },
      "source": [
        "'''\n",
        "generate multiple headline for given news story using beam search with repetition penalty\n",
        "'''\n",
        "num_beams=5\n",
        "def generate_headline_beam_with_repitition_penalty(batch):\n",
        "    inputs = tokenizer(batch[\"summary\"], padding=\"max_length\", truncation=True, max_length=encoder_max_length, return_tensors=\"pt\")# Tokenizer will automatically set [BOS] <text> [EOS]\n",
        "    input_ids = inputs.input_ids#.to(\"cuda\")\n",
        "    attention_mask = inputs.attention_mask #.to(\"cuda\")\n",
        "    beam_output = bert2bert_model.generate(input_ids, attention_mask=attention_mask, num_beams=num_beams, num_return_sequences=5, no_repeat_ngram_size=2, early_stopping=True)\n",
        "    # all special tokens including will be removed\n",
        "    output_str = tokenizer.batch_decode(beam_output, skip_special_tokens=True)\n",
        "    no_of_sample_in_batch=len(batch[\"summary\"])#3\n",
        "    op_str_beam=[]\n",
        "    for index in range(no_of_sample_in_batch):\n",
        "      #print((index*num_beams,(index+1)*num_beams))\n",
        "      op_str_beam.append(output_str[index*num_beams:(index+1)*num_beams])\n",
        "    batch[\"pred\"] = op_str_beam\n",
        "    return batch"
      ],
      "execution_count": null,
      "outputs": []
    },
    {
      "cell_type": "code",
      "metadata": {
        "colab": {
          "base_uri": "https://localhost:8080/",
          "height": 290,
          "referenced_widgets": [
            "bfa039c49b70430d9d15b99a5a305873",
            "7d2bd0a92dd7421989b1b5369bd74d96",
            "d85fa71a78f243ef98066ae829cf4fdf",
            "69c48b0f3b3046e6b81f34e1ef27d5a1",
            "3a118e0891c84926ba8b34fc4307a225",
            "f8027a01045447e29a7107cfb3206ff8",
            "556af78698d6481784e3fd43ff759beb",
            "c59ff3e86e66463bab9a3dfd2b0c5a6e"
          ]
        },
        "id": "iQNtSkIiNLs7",
        "outputId": "573283e0-155d-49c8-8a66-deeff775402c"
      },
      "source": [
        "'''\n",
        "generating multiple News Headline for test News stories using beam search with repetition penalty\n",
        "'''\n",
        "test_evaluation_dataset = test_hf_dataset.select([record_index for record_index in range(9,12)])\n",
        "len(test_evaluation_dataset)\n",
        "test_results_beam = test_evaluation_dataset.map(generate_headline_beam_with_repitition_penalty, batched=True, batch_size=batch_size) \n",
        "for index in range(3):\n",
        "  print('*********************************')\n",
        "  print('actual headline: ',test_results_beam[index]['summary'])\n",
        "  print('actual headline: ',test_results_beam[index]['headline'])\n",
        "  print('predicted headline: ',test_results_beam[index]['pred'])\n"
      ],
      "execution_count": null,
      "outputs": [
        {
          "output_type": "display_data",
          "data": {
            "application/vnd.jupyter.widget-view+json": {
              "model_id": "bfa039c49b70430d9d15b99a5a305873",
              "version_minor": 0,
              "version_major": 2
            },
            "text/plain": [
              "HBox(children=(FloatProgress(value=0.0, max=1.0), HTML(value='')))"
            ]
          },
          "metadata": {
            "tags": []
          }
        },
        {
          "output_type": "stream",
          "text": [
            "\n",
            "*********************************\n",
            "actual headline:  The Mayor of the French city of Nice, Christian Estrosi, has urged visitors to stay away from the tourist hotspot as the city battles a spike in COVID-19 infections. He added that new measures that \"go beyond the nationwide 6 pm curfew\" were needed to tackle the surge in cases. \"A weekend lockdown would make sense,\" Estrosi said.\n",
            "actual headline:  French City of Nice Asks Tourists to Stay Away amid COVID Surge\n",
            "predicted headline:  ['covid - 19, 000 people die in africa', 'covid - 19, 000 people live in africa', 'covid - 19, 000 people die in haiti', 'covid - 19 toll tolls spike in africa', 'covid - 19, 000 people die']\n",
            "*********************************\n",
            "actual headline:  Bengali actress Srabanti Chatterjee joined the Bharatiya Janata Party (BJP) on Monday, ahead of Assembly elections in the state. She joined the saffron party in the presence of BJP national general secretary Kailash Vijayvargiya and the party's state president, Dilip Ghosh. Bengali actor Yash Dasgupta had joined the party last month.\n",
            "actual headline:  Bengali actor Srabanti Chatterjee joins BJP ahead of Assembly elections 2021\n",
            "predicted headline:  [\"mamata banerjee joins bjp's bengal assembly assembly polls\", \"mamata banerjee joins bjp's assam assembly assembly polls\", \"mamata banerjee joins bjp's bengal assembly polls\", \"mamata banerjee joins bjp's bjp - led party\", \"mamata banerjee joins bjp's bengal assembly assembly election\"]\n",
            "*********************************\n",
            "actual headline:  An iPhone hacking team has released a new jailbreak tool that it claims can be used to jailbreak any device running iOS 11.0 through iOS 14.3 using a kernel vulnerability. The group said it used its \"own exploit\" for CVE-2021-1782, a vulnerability that Apple said was one of the three flaws that \"may have been actively exploited\" by hackers.\n",
            "actual headline:  New 'unc0ver' Tool Can Jailbreak All iPhone Models Running iOS 11.0\n",
            "predicted headline:  ['apple releases 4. 0 betaware updates for ios 11. 5', 'apple releases 4. 0 betaware updates for ios 9. 5', 'apple releases 4. 0 betaware updates for ios 11 : apple', 'apple releases 4. 0 betaware updates for ios 10 : apple', 'apple releases 4. 0 betaware updates for ios 9. 1']\n"
          ],
          "name": "stdout"
        }
      ]
    },
    {
      "cell_type": "code",
      "metadata": {
        "id": "XKjoCx7jPvHW"
      },
      "source": [
        ""
      ],
      "execution_count": null,
      "outputs": []
    }
  ]
}